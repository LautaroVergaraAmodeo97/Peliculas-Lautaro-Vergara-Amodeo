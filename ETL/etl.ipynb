{
 "cells": [
  {
   "cell_type": "markdown",
   "metadata": {},
   "source": [
    "# Limpieza de datos"
   ]
  },
  {
   "cell_type": "markdown",
   "metadata": {},
   "source": [
    "## Limpieza de movies_dataset"
   ]
  },
  {
   "cell_type": "markdown",
   "metadata": {},
   "source": [
    "Vamos a iniciar el ETL para los conjuntos de datos que se nos ha proporcionado a la hora de realizar esta actividad. Una vez que finalizamos la limpieza vamos a proceder a exportar estos datos en un formato csv con el propósito de realizar un EDA y finalmente levantarlo en Render o Railways."
   ]
  },
  {
   "cell_type": "code",
   "execution_count": 1,
   "metadata": {},
   "outputs": [],
   "source": [
    "import pandas as pd\n",
    "import numpy as np"
   ]
  },
  {
   "cell_type": "code",
   "execution_count": 2,
   "metadata": {},
   "outputs": [
    {
     "name": "stderr",
     "output_type": "stream",
     "text": [
      "C:\\Users\\User\\AppData\\Local\\Temp\\ipykernel_8984\\3684129914.py:1: DtypeWarning: Columns (10) have mixed types. Specify dtype option on import or set low_memory=False.\n",
      "  movies = pd.read_csv('C:\\\\Users\\\\User\\\\OneDrive\\\\Escritorio\\\\Proyecto Final Individual I\\\\Datos\\\\movies_dataset.csv')\n"
     ]
    }
   ],
   "source": [
    "movies = pd.read_csv('C:\\\\Users\\\\User\\\\OneDrive\\\\Escritorio\\\\Proyecto Final Individual I\\\\Datos\\\\movies_dataset.csv')\n"
   ]
  },
  {
   "cell_type": "markdown",
   "metadata": {},
   "source": [
    "Eliminar las columnas que no serán utilizadas, video,imdb_id,adult,original_title,poster_path y homepage."
   ]
  },
  {
   "cell_type": "code",
   "execution_count": 3,
   "metadata": {},
   "outputs": [],
   "source": [
    "columnas_eliminar = ['adult','homepage','imdb_id','original_title','poster_path','video']\n",
    "\n",
    "movies = movies.drop(columns=columnas_eliminar)"
   ]
  },
  {
   "cell_type": "code",
   "execution_count": 4,
   "metadata": {},
   "outputs": [
    {
     "name": "stdout",
     "output_type": "stream",
     "text": [
      "<class 'pandas.core.frame.DataFrame'>\n",
      "RangeIndex: 45466 entries, 0 to 45465\n",
      "Data columns (total 18 columns):\n",
      " #   Column                 Non-Null Count  Dtype  \n",
      "---  ------                 --------------  -----  \n",
      " 0   belongs_to_collection  4494 non-null   object \n",
      " 1   budget                 45466 non-null  object \n",
      " 2   genres                 45466 non-null  object \n",
      " 3   id                     45466 non-null  object \n",
      " 4   original_language      45455 non-null  object \n",
      " 5   overview               44512 non-null  object \n",
      " 6   popularity             45461 non-null  object \n",
      " 7   production_companies   45463 non-null  object \n",
      " 8   production_countries   45463 non-null  object \n",
      " 9   release_date           45379 non-null  object \n",
      " 10  revenue                45460 non-null  float64\n",
      " 11  runtime                45203 non-null  float64\n",
      " 12  spoken_languages       45460 non-null  object \n",
      " 13  status                 45379 non-null  object \n",
      " 14  tagline                20412 non-null  object \n",
      " 15  title                  45460 non-null  object \n",
      " 16  vote_average           45460 non-null  float64\n",
      " 17  vote_count             45460 non-null  float64\n",
      "dtypes: float64(4), object(14)\n",
      "memory usage: 6.2+ MB\n"
     ]
    }
   ],
   "source": [
    "movies.info()"
   ]
  },
  {
   "cell_type": "markdown",
   "metadata": {},
   "source": [
    "Los valores nulos de los campos revenue, budget deben ser rellenados por el número 0."
   ]
  },
  {
   "cell_type": "code",
   "execution_count": 5,
   "metadata": {},
   "outputs": [],
   "source": [
    "movies['budget'] = movies['budget'].fillna(value=0)\n",
    "movies['revenue'] = movies['revenue'].fillna(value=0)"
   ]
  },
  {
   "cell_type": "markdown",
   "metadata": {},
   "source": [
    "Algo que no me había percatado era que ambas columnas son de tipo object. Ahora las transformo en numéricas con la finalidad de poder seguir trabajando con tranquilidad."
   ]
  },
  {
   "cell_type": "code",
   "execution_count": 6,
   "metadata": {},
   "outputs": [],
   "source": [
    "movies['revenue'] = pd.to_numeric(movies['revenue'], errors='coerce').fillna(0)\n",
    "movies['budget'] = pd.to_numeric(movies['budget'], errors='coerce').fillna(0)"
   ]
  },
  {
   "cell_type": "markdown",
   "metadata": {},
   "source": [
    "Crear la columna con el retorno de inversión, llamada return con los campos revenue y budget, dividiendo estas dos últimas revenue / budget, cuando no hay datos disponibles para calcularlo, deberá tomar el valor 0"
   ]
  },
  {
   "cell_type": "code",
   "execution_count": 7,
   "metadata": {},
   "outputs": [],
   "source": [
    "# Evitamos la división por cero al crear la columna 'return'\n",
    "movies['return'] = movies.apply(lambda x: x['revenue'] / x['budget'] if x['budget'] != 0 else 0, axis=1)"
   ]
  },
  {
   "cell_type": "markdown",
   "metadata": {},
   "source": [
    "Los valores nulos del campo release date deben eliminarse."
   ]
  },
  {
   "cell_type": "code",
   "execution_count": 8,
   "metadata": {},
   "outputs": [],
   "source": [
    "movies['release_date'] = movies['release_date'].dropna()"
   ]
  },
  {
   "cell_type": "markdown",
   "metadata": {},
   "source": [
    "Ahora vamos a convertilos en una columna de tipo date"
   ]
  },
  {
   "cell_type": "code",
   "execution_count": 9,
   "metadata": {},
   "outputs": [],
   "source": [
    "movies['release_date'] = pd.to_datetime(movies['release_date'],errors='coerce',format='%Y-%m-%d')"
   ]
  },
  {
   "cell_type": "markdown",
   "metadata": {},
   "source": [
    "De haber fechas, deberán tener el formato AAAA-mm-dd, además deberán crear la columna release_year donde extraerán el año de la fecha de estreno."
   ]
  },
  {
   "cell_type": "code",
   "execution_count": 10,
   "metadata": {},
   "outputs": [],
   "source": [
    "movies['release_year'] = movies['release_date'].dt.year"
   ]
  },
  {
   "cell_type": "markdown",
   "metadata": {},
   "source": [
    "Este paso es opcional. Llenamos los nulos con 0"
   ]
  },
  {
   "cell_type": "code",
   "execution_count": 11,
   "metadata": {},
   "outputs": [],
   "source": [
    "movies['release_year'] = movies['release_year'].fillna(0).astype(int)\n"
   ]
  },
  {
   "cell_type": "code",
   "execution_count": 12,
   "metadata": {},
   "outputs": [
    {
     "data": {
      "text/html": [
       "<div>\n",
       "<style scoped>\n",
       "    .dataframe tbody tr th:only-of-type {\n",
       "        vertical-align: middle;\n",
       "    }\n",
       "\n",
       "    .dataframe tbody tr th {\n",
       "        vertical-align: top;\n",
       "    }\n",
       "\n",
       "    .dataframe thead th {\n",
       "        text-align: right;\n",
       "    }\n",
       "</style>\n",
       "<table border=\"1\" class=\"dataframe\">\n",
       "  <thead>\n",
       "    <tr style=\"text-align: right;\">\n",
       "      <th></th>\n",
       "      <th>belongs_to_collection</th>\n",
       "      <th>budget</th>\n",
       "      <th>genres</th>\n",
       "      <th>id</th>\n",
       "      <th>original_language</th>\n",
       "      <th>overview</th>\n",
       "      <th>popularity</th>\n",
       "      <th>production_companies</th>\n",
       "      <th>production_countries</th>\n",
       "      <th>release_date</th>\n",
       "      <th>revenue</th>\n",
       "      <th>runtime</th>\n",
       "      <th>spoken_languages</th>\n",
       "      <th>status</th>\n",
       "      <th>tagline</th>\n",
       "      <th>title</th>\n",
       "      <th>vote_average</th>\n",
       "      <th>vote_count</th>\n",
       "      <th>return</th>\n",
       "      <th>release_year</th>\n",
       "    </tr>\n",
       "  </thead>\n",
       "  <tbody>\n",
       "    <tr>\n",
       "      <th>0</th>\n",
       "      <td>{'id': 10194, 'name': 'Toy Story Collection', ...</td>\n",
       "      <td>30000000.0</td>\n",
       "      <td>[{'id': 16, 'name': 'Animation'}, {'id': 35, '...</td>\n",
       "      <td>862</td>\n",
       "      <td>en</td>\n",
       "      <td>Led by Woody, Andy's toys live happily in his ...</td>\n",
       "      <td>21.946943</td>\n",
       "      <td>[{'name': 'Pixar Animation Studios', 'id': 3}]</td>\n",
       "      <td>[{'iso_3166_1': 'US', 'name': 'United States o...</td>\n",
       "      <td>1995-10-30</td>\n",
       "      <td>373554033.0</td>\n",
       "      <td>81.0</td>\n",
       "      <td>[{'iso_639_1': 'en', 'name': 'English'}]</td>\n",
       "      <td>Released</td>\n",
       "      <td>NaN</td>\n",
       "      <td>Toy Story</td>\n",
       "      <td>7.7</td>\n",
       "      <td>5415.0</td>\n",
       "      <td>12.451801</td>\n",
       "      <td>1995</td>\n",
       "    </tr>\n",
       "    <tr>\n",
       "      <th>1</th>\n",
       "      <td>NaN</td>\n",
       "      <td>65000000.0</td>\n",
       "      <td>[{'id': 12, 'name': 'Adventure'}, {'id': 14, '...</td>\n",
       "      <td>8844</td>\n",
       "      <td>en</td>\n",
       "      <td>When siblings Judy and Peter discover an encha...</td>\n",
       "      <td>17.015539</td>\n",
       "      <td>[{'name': 'TriStar Pictures', 'id': 559}, {'na...</td>\n",
       "      <td>[{'iso_3166_1': 'US', 'name': 'United States o...</td>\n",
       "      <td>1995-12-15</td>\n",
       "      <td>262797249.0</td>\n",
       "      <td>104.0</td>\n",
       "      <td>[{'iso_639_1': 'en', 'name': 'English'}, {'iso...</td>\n",
       "      <td>Released</td>\n",
       "      <td>Roll the dice and unleash the excitement!</td>\n",
       "      <td>Jumanji</td>\n",
       "      <td>6.9</td>\n",
       "      <td>2413.0</td>\n",
       "      <td>4.043035</td>\n",
       "      <td>1995</td>\n",
       "    </tr>\n",
       "    <tr>\n",
       "      <th>2</th>\n",
       "      <td>{'id': 119050, 'name': 'Grumpy Old Men Collect...</td>\n",
       "      <td>0.0</td>\n",
       "      <td>[{'id': 10749, 'name': 'Romance'}, {'id': 35, ...</td>\n",
       "      <td>15602</td>\n",
       "      <td>en</td>\n",
       "      <td>A family wedding reignites the ancient feud be...</td>\n",
       "      <td>11.7129</td>\n",
       "      <td>[{'name': 'Warner Bros.', 'id': 6194}, {'name'...</td>\n",
       "      <td>[{'iso_3166_1': 'US', 'name': 'United States o...</td>\n",
       "      <td>1995-12-22</td>\n",
       "      <td>0.0</td>\n",
       "      <td>101.0</td>\n",
       "      <td>[{'iso_639_1': 'en', 'name': 'English'}]</td>\n",
       "      <td>Released</td>\n",
       "      <td>Still Yelling. Still Fighting. Still Ready for...</td>\n",
       "      <td>Grumpier Old Men</td>\n",
       "      <td>6.5</td>\n",
       "      <td>92.0</td>\n",
       "      <td>0.000000</td>\n",
       "      <td>1995</td>\n",
       "    </tr>\n",
       "    <tr>\n",
       "      <th>3</th>\n",
       "      <td>NaN</td>\n",
       "      <td>16000000.0</td>\n",
       "      <td>[{'id': 35, 'name': 'Comedy'}, {'id': 18, 'nam...</td>\n",
       "      <td>31357</td>\n",
       "      <td>en</td>\n",
       "      <td>Cheated on, mistreated and stepped on, the wom...</td>\n",
       "      <td>3.859495</td>\n",
       "      <td>[{'name': 'Twentieth Century Fox Film Corporat...</td>\n",
       "      <td>[{'iso_3166_1': 'US', 'name': 'United States o...</td>\n",
       "      <td>1995-12-22</td>\n",
       "      <td>81452156.0</td>\n",
       "      <td>127.0</td>\n",
       "      <td>[{'iso_639_1': 'en', 'name': 'English'}]</td>\n",
       "      <td>Released</td>\n",
       "      <td>Friends are the people who let you be yourself...</td>\n",
       "      <td>Waiting to Exhale</td>\n",
       "      <td>6.1</td>\n",
       "      <td>34.0</td>\n",
       "      <td>5.090760</td>\n",
       "      <td>1995</td>\n",
       "    </tr>\n",
       "    <tr>\n",
       "      <th>4</th>\n",
       "      <td>{'id': 96871, 'name': 'Father of the Bride Col...</td>\n",
       "      <td>0.0</td>\n",
       "      <td>[{'id': 35, 'name': 'Comedy'}]</td>\n",
       "      <td>11862</td>\n",
       "      <td>en</td>\n",
       "      <td>Just when George Banks has recovered from his ...</td>\n",
       "      <td>8.387519</td>\n",
       "      <td>[{'name': 'Sandollar Productions', 'id': 5842}...</td>\n",
       "      <td>[{'iso_3166_1': 'US', 'name': 'United States o...</td>\n",
       "      <td>1995-02-10</td>\n",
       "      <td>76578911.0</td>\n",
       "      <td>106.0</td>\n",
       "      <td>[{'iso_639_1': 'en', 'name': 'English'}]</td>\n",
       "      <td>Released</td>\n",
       "      <td>Just When His World Is Back To Normal... He's ...</td>\n",
       "      <td>Father of the Bride Part II</td>\n",
       "      <td>5.7</td>\n",
       "      <td>173.0</td>\n",
       "      <td>0.000000</td>\n",
       "      <td>1995</td>\n",
       "    </tr>\n",
       "  </tbody>\n",
       "</table>\n",
       "</div>"
      ],
      "text/plain": [
       "                               belongs_to_collection      budget  \\\n",
       "0  {'id': 10194, 'name': 'Toy Story Collection', ...  30000000.0   \n",
       "1                                                NaN  65000000.0   \n",
       "2  {'id': 119050, 'name': 'Grumpy Old Men Collect...         0.0   \n",
       "3                                                NaN  16000000.0   \n",
       "4  {'id': 96871, 'name': 'Father of the Bride Col...         0.0   \n",
       "\n",
       "                                              genres     id original_language  \\\n",
       "0  [{'id': 16, 'name': 'Animation'}, {'id': 35, '...    862                en   \n",
       "1  [{'id': 12, 'name': 'Adventure'}, {'id': 14, '...   8844                en   \n",
       "2  [{'id': 10749, 'name': 'Romance'}, {'id': 35, ...  15602                en   \n",
       "3  [{'id': 35, 'name': 'Comedy'}, {'id': 18, 'nam...  31357                en   \n",
       "4                     [{'id': 35, 'name': 'Comedy'}]  11862                en   \n",
       "\n",
       "                                            overview popularity  \\\n",
       "0  Led by Woody, Andy's toys live happily in his ...  21.946943   \n",
       "1  When siblings Judy and Peter discover an encha...  17.015539   \n",
       "2  A family wedding reignites the ancient feud be...    11.7129   \n",
       "3  Cheated on, mistreated and stepped on, the wom...   3.859495   \n",
       "4  Just when George Banks has recovered from his ...   8.387519   \n",
       "\n",
       "                                production_companies  \\\n",
       "0     [{'name': 'Pixar Animation Studios', 'id': 3}]   \n",
       "1  [{'name': 'TriStar Pictures', 'id': 559}, {'na...   \n",
       "2  [{'name': 'Warner Bros.', 'id': 6194}, {'name'...   \n",
       "3  [{'name': 'Twentieth Century Fox Film Corporat...   \n",
       "4  [{'name': 'Sandollar Productions', 'id': 5842}...   \n",
       "\n",
       "                                production_countries release_date  \\\n",
       "0  [{'iso_3166_1': 'US', 'name': 'United States o...   1995-10-30   \n",
       "1  [{'iso_3166_1': 'US', 'name': 'United States o...   1995-12-15   \n",
       "2  [{'iso_3166_1': 'US', 'name': 'United States o...   1995-12-22   \n",
       "3  [{'iso_3166_1': 'US', 'name': 'United States o...   1995-12-22   \n",
       "4  [{'iso_3166_1': 'US', 'name': 'United States o...   1995-02-10   \n",
       "\n",
       "       revenue  runtime                                   spoken_languages  \\\n",
       "0  373554033.0     81.0           [{'iso_639_1': 'en', 'name': 'English'}]   \n",
       "1  262797249.0    104.0  [{'iso_639_1': 'en', 'name': 'English'}, {'iso...   \n",
       "2          0.0    101.0           [{'iso_639_1': 'en', 'name': 'English'}]   \n",
       "3   81452156.0    127.0           [{'iso_639_1': 'en', 'name': 'English'}]   \n",
       "4   76578911.0    106.0           [{'iso_639_1': 'en', 'name': 'English'}]   \n",
       "\n",
       "     status                                            tagline  \\\n",
       "0  Released                                                NaN   \n",
       "1  Released          Roll the dice and unleash the excitement!   \n",
       "2  Released  Still Yelling. Still Fighting. Still Ready for...   \n",
       "3  Released  Friends are the people who let you be yourself...   \n",
       "4  Released  Just When His World Is Back To Normal... He's ...   \n",
       "\n",
       "                         title  vote_average  vote_count     return  \\\n",
       "0                    Toy Story           7.7      5415.0  12.451801   \n",
       "1                      Jumanji           6.9      2413.0   4.043035   \n",
       "2             Grumpier Old Men           6.5        92.0   0.000000   \n",
       "3            Waiting to Exhale           6.1        34.0   5.090760   \n",
       "4  Father of the Bride Part II           5.7       173.0   0.000000   \n",
       "\n",
       "   release_year  \n",
       "0          1995  \n",
       "1          1995  \n",
       "2          1995  \n",
       "3          1995  \n",
       "4          1995  "
      ]
     },
     "execution_count": 12,
     "metadata": {},
     "output_type": "execute_result"
    }
   ],
   "source": [
    "movies.head()"
   ]
  },
  {
   "cell_type": "markdown",
   "metadata": {},
   "source": [
    "Viendo que se nos pide que creamos una función llamada def cantidad_filmaciones_mes( Mes ) vamos a tener que poner los meses en formato String"
   ]
  },
  {
   "cell_type": "code",
   "execution_count": 13,
   "metadata": {},
   "outputs": [],
   "source": [
    "#Extraemos el mes y creamos una columna nueva\n",
    "movies['release_month'] = movies['release_date'].dt.month\n",
    "\n",
    "#Creamos una columna con el nombre del mes\n",
    "movies['month_name'] = movies['release_date'].dt.strftime('%B')"
   ]
  },
  {
   "cell_type": "code",
   "execution_count": 14,
   "metadata": {},
   "outputs": [
    {
     "data": {
      "text/html": [
       "<div>\n",
       "<style scoped>\n",
       "    .dataframe tbody tr th:only-of-type {\n",
       "        vertical-align: middle;\n",
       "    }\n",
       "\n",
       "    .dataframe tbody tr th {\n",
       "        vertical-align: top;\n",
       "    }\n",
       "\n",
       "    .dataframe thead th {\n",
       "        text-align: right;\n",
       "    }\n",
       "</style>\n",
       "<table border=\"1\" class=\"dataframe\">\n",
       "  <thead>\n",
       "    <tr style=\"text-align: right;\">\n",
       "      <th></th>\n",
       "      <th>belongs_to_collection</th>\n",
       "      <th>budget</th>\n",
       "      <th>genres</th>\n",
       "      <th>id</th>\n",
       "      <th>original_language</th>\n",
       "      <th>overview</th>\n",
       "      <th>popularity</th>\n",
       "      <th>production_companies</th>\n",
       "      <th>production_countries</th>\n",
       "      <th>release_date</th>\n",
       "      <th>...</th>\n",
       "      <th>spoken_languages</th>\n",
       "      <th>status</th>\n",
       "      <th>tagline</th>\n",
       "      <th>title</th>\n",
       "      <th>vote_average</th>\n",
       "      <th>vote_count</th>\n",
       "      <th>return</th>\n",
       "      <th>release_year</th>\n",
       "      <th>release_month</th>\n",
       "      <th>month_name</th>\n",
       "    </tr>\n",
       "  </thead>\n",
       "  <tbody>\n",
       "    <tr>\n",
       "      <th>0</th>\n",
       "      <td>{'id': 10194, 'name': 'Toy Story Collection', ...</td>\n",
       "      <td>30000000.0</td>\n",
       "      <td>[{'id': 16, 'name': 'Animation'}, {'id': 35, '...</td>\n",
       "      <td>862</td>\n",
       "      <td>en</td>\n",
       "      <td>Led by Woody, Andy's toys live happily in his ...</td>\n",
       "      <td>21.946943</td>\n",
       "      <td>[{'name': 'Pixar Animation Studios', 'id': 3}]</td>\n",
       "      <td>[{'iso_3166_1': 'US', 'name': 'United States o...</td>\n",
       "      <td>1995-10-30</td>\n",
       "      <td>...</td>\n",
       "      <td>[{'iso_639_1': 'en', 'name': 'English'}]</td>\n",
       "      <td>Released</td>\n",
       "      <td>NaN</td>\n",
       "      <td>Toy Story</td>\n",
       "      <td>7.7</td>\n",
       "      <td>5415.0</td>\n",
       "      <td>12.451801</td>\n",
       "      <td>1995</td>\n",
       "      <td>10.0</td>\n",
       "      <td>October</td>\n",
       "    </tr>\n",
       "    <tr>\n",
       "      <th>1</th>\n",
       "      <td>NaN</td>\n",
       "      <td>65000000.0</td>\n",
       "      <td>[{'id': 12, 'name': 'Adventure'}, {'id': 14, '...</td>\n",
       "      <td>8844</td>\n",
       "      <td>en</td>\n",
       "      <td>When siblings Judy and Peter discover an encha...</td>\n",
       "      <td>17.015539</td>\n",
       "      <td>[{'name': 'TriStar Pictures', 'id': 559}, {'na...</td>\n",
       "      <td>[{'iso_3166_1': 'US', 'name': 'United States o...</td>\n",
       "      <td>1995-12-15</td>\n",
       "      <td>...</td>\n",
       "      <td>[{'iso_639_1': 'en', 'name': 'English'}, {'iso...</td>\n",
       "      <td>Released</td>\n",
       "      <td>Roll the dice and unleash the excitement!</td>\n",
       "      <td>Jumanji</td>\n",
       "      <td>6.9</td>\n",
       "      <td>2413.0</td>\n",
       "      <td>4.043035</td>\n",
       "      <td>1995</td>\n",
       "      <td>12.0</td>\n",
       "      <td>December</td>\n",
       "    </tr>\n",
       "    <tr>\n",
       "      <th>2</th>\n",
       "      <td>{'id': 119050, 'name': 'Grumpy Old Men Collect...</td>\n",
       "      <td>0.0</td>\n",
       "      <td>[{'id': 10749, 'name': 'Romance'}, {'id': 35, ...</td>\n",
       "      <td>15602</td>\n",
       "      <td>en</td>\n",
       "      <td>A family wedding reignites the ancient feud be...</td>\n",
       "      <td>11.7129</td>\n",
       "      <td>[{'name': 'Warner Bros.', 'id': 6194}, {'name'...</td>\n",
       "      <td>[{'iso_3166_1': 'US', 'name': 'United States o...</td>\n",
       "      <td>1995-12-22</td>\n",
       "      <td>...</td>\n",
       "      <td>[{'iso_639_1': 'en', 'name': 'English'}]</td>\n",
       "      <td>Released</td>\n",
       "      <td>Still Yelling. Still Fighting. Still Ready for...</td>\n",
       "      <td>Grumpier Old Men</td>\n",
       "      <td>6.5</td>\n",
       "      <td>92.0</td>\n",
       "      <td>0.000000</td>\n",
       "      <td>1995</td>\n",
       "      <td>12.0</td>\n",
       "      <td>December</td>\n",
       "    </tr>\n",
       "    <tr>\n",
       "      <th>3</th>\n",
       "      <td>NaN</td>\n",
       "      <td>16000000.0</td>\n",
       "      <td>[{'id': 35, 'name': 'Comedy'}, {'id': 18, 'nam...</td>\n",
       "      <td>31357</td>\n",
       "      <td>en</td>\n",
       "      <td>Cheated on, mistreated and stepped on, the wom...</td>\n",
       "      <td>3.859495</td>\n",
       "      <td>[{'name': 'Twentieth Century Fox Film Corporat...</td>\n",
       "      <td>[{'iso_3166_1': 'US', 'name': 'United States o...</td>\n",
       "      <td>1995-12-22</td>\n",
       "      <td>...</td>\n",
       "      <td>[{'iso_639_1': 'en', 'name': 'English'}]</td>\n",
       "      <td>Released</td>\n",
       "      <td>Friends are the people who let you be yourself...</td>\n",
       "      <td>Waiting to Exhale</td>\n",
       "      <td>6.1</td>\n",
       "      <td>34.0</td>\n",
       "      <td>5.090760</td>\n",
       "      <td>1995</td>\n",
       "      <td>12.0</td>\n",
       "      <td>December</td>\n",
       "    </tr>\n",
       "    <tr>\n",
       "      <th>4</th>\n",
       "      <td>{'id': 96871, 'name': 'Father of the Bride Col...</td>\n",
       "      <td>0.0</td>\n",
       "      <td>[{'id': 35, 'name': 'Comedy'}]</td>\n",
       "      <td>11862</td>\n",
       "      <td>en</td>\n",
       "      <td>Just when George Banks has recovered from his ...</td>\n",
       "      <td>8.387519</td>\n",
       "      <td>[{'name': 'Sandollar Productions', 'id': 5842}...</td>\n",
       "      <td>[{'iso_3166_1': 'US', 'name': 'United States o...</td>\n",
       "      <td>1995-02-10</td>\n",
       "      <td>...</td>\n",
       "      <td>[{'iso_639_1': 'en', 'name': 'English'}]</td>\n",
       "      <td>Released</td>\n",
       "      <td>Just When His World Is Back To Normal... He's ...</td>\n",
       "      <td>Father of the Bride Part II</td>\n",
       "      <td>5.7</td>\n",
       "      <td>173.0</td>\n",
       "      <td>0.000000</td>\n",
       "      <td>1995</td>\n",
       "      <td>2.0</td>\n",
       "      <td>February</td>\n",
       "    </tr>\n",
       "  </tbody>\n",
       "</table>\n",
       "<p>5 rows × 22 columns</p>\n",
       "</div>"
      ],
      "text/plain": [
       "                               belongs_to_collection      budget  \\\n",
       "0  {'id': 10194, 'name': 'Toy Story Collection', ...  30000000.0   \n",
       "1                                                NaN  65000000.0   \n",
       "2  {'id': 119050, 'name': 'Grumpy Old Men Collect...         0.0   \n",
       "3                                                NaN  16000000.0   \n",
       "4  {'id': 96871, 'name': 'Father of the Bride Col...         0.0   \n",
       "\n",
       "                                              genres     id original_language  \\\n",
       "0  [{'id': 16, 'name': 'Animation'}, {'id': 35, '...    862                en   \n",
       "1  [{'id': 12, 'name': 'Adventure'}, {'id': 14, '...   8844                en   \n",
       "2  [{'id': 10749, 'name': 'Romance'}, {'id': 35, ...  15602                en   \n",
       "3  [{'id': 35, 'name': 'Comedy'}, {'id': 18, 'nam...  31357                en   \n",
       "4                     [{'id': 35, 'name': 'Comedy'}]  11862                en   \n",
       "\n",
       "                                            overview popularity  \\\n",
       "0  Led by Woody, Andy's toys live happily in his ...  21.946943   \n",
       "1  When siblings Judy and Peter discover an encha...  17.015539   \n",
       "2  A family wedding reignites the ancient feud be...    11.7129   \n",
       "3  Cheated on, mistreated and stepped on, the wom...   3.859495   \n",
       "4  Just when George Banks has recovered from his ...   8.387519   \n",
       "\n",
       "                                production_companies  \\\n",
       "0     [{'name': 'Pixar Animation Studios', 'id': 3}]   \n",
       "1  [{'name': 'TriStar Pictures', 'id': 559}, {'na...   \n",
       "2  [{'name': 'Warner Bros.', 'id': 6194}, {'name'...   \n",
       "3  [{'name': 'Twentieth Century Fox Film Corporat...   \n",
       "4  [{'name': 'Sandollar Productions', 'id': 5842}...   \n",
       "\n",
       "                                production_countries release_date  ...  \\\n",
       "0  [{'iso_3166_1': 'US', 'name': 'United States o...   1995-10-30  ...   \n",
       "1  [{'iso_3166_1': 'US', 'name': 'United States o...   1995-12-15  ...   \n",
       "2  [{'iso_3166_1': 'US', 'name': 'United States o...   1995-12-22  ...   \n",
       "3  [{'iso_3166_1': 'US', 'name': 'United States o...   1995-12-22  ...   \n",
       "4  [{'iso_3166_1': 'US', 'name': 'United States o...   1995-02-10  ...   \n",
       "\n",
       "                                    spoken_languages    status  \\\n",
       "0           [{'iso_639_1': 'en', 'name': 'English'}]  Released   \n",
       "1  [{'iso_639_1': 'en', 'name': 'English'}, {'iso...  Released   \n",
       "2           [{'iso_639_1': 'en', 'name': 'English'}]  Released   \n",
       "3           [{'iso_639_1': 'en', 'name': 'English'}]  Released   \n",
       "4           [{'iso_639_1': 'en', 'name': 'English'}]  Released   \n",
       "\n",
       "                                             tagline  \\\n",
       "0                                                NaN   \n",
       "1          Roll the dice and unleash the excitement!   \n",
       "2  Still Yelling. Still Fighting. Still Ready for...   \n",
       "3  Friends are the people who let you be yourself...   \n",
       "4  Just When His World Is Back To Normal... He's ...   \n",
       "\n",
       "                         title vote_average vote_count     return  \\\n",
       "0                    Toy Story          7.7     5415.0  12.451801   \n",
       "1                      Jumanji          6.9     2413.0   4.043035   \n",
       "2             Grumpier Old Men          6.5       92.0   0.000000   \n",
       "3            Waiting to Exhale          6.1       34.0   5.090760   \n",
       "4  Father of the Bride Part II          5.7      173.0   0.000000   \n",
       "\n",
       "   release_year  release_month  month_name  \n",
       "0          1995           10.0     October  \n",
       "1          1995           12.0    December  \n",
       "2          1995           12.0    December  \n",
       "3          1995           12.0    December  \n",
       "4          1995            2.0    February  \n",
       "\n",
       "[5 rows x 22 columns]"
      ]
     },
     "execution_count": 14,
     "metadata": {},
     "output_type": "execute_result"
    }
   ],
   "source": [
    "movies.head()"
   ]
  },
  {
   "cell_type": "markdown",
   "metadata": {},
   "source": [
    "Ahora tenemos que hacer la traducción al español ya que en el ejercicios propuesto se nos pide que este en este idioma."
   ]
  },
  {
   "cell_type": "code",
   "execution_count": 15,
   "metadata": {},
   "outputs": [],
   "source": [
    "traslation = {'January': 'Enero',\n",
    "    'February': 'Febrero',\n",
    "    'March': 'Marzo',\n",
    "    'April': 'Abril',\n",
    "    'May': 'Mayo',\n",
    "    'June': 'Junio',\n",
    "    'July': 'Julio',\n",
    "    'August': 'Agosto',\n",
    "    'September': 'Septiembre',\n",
    "    'October': 'Octubre',\n",
    "    'November': 'Noviembre',\n",
    "    'December': 'Diciembre'}\n",
    "\n",
    "\n",
    "movies['month_name_es'] = movies['month_name'].map(traslation)"
   ]
  },
  {
   "cell_type": "code",
   "execution_count": 16,
   "metadata": {},
   "outputs": [],
   "source": [
    "movies = movies.drop(columns=['month_name'])"
   ]
  },
  {
   "cell_type": "code",
   "execution_count": 17,
   "metadata": {},
   "outputs": [
    {
     "name": "stdout",
     "output_type": "stream",
     "text": [
      "<class 'pandas.core.frame.DataFrame'>\n",
      "RangeIndex: 45466 entries, 0 to 45465\n",
      "Data columns (total 22 columns):\n",
      " #   Column                 Non-Null Count  Dtype         \n",
      "---  ------                 --------------  -----         \n",
      " 0   belongs_to_collection  4494 non-null   object        \n",
      " 1   budget                 45466 non-null  float64       \n",
      " 2   genres                 45466 non-null  object        \n",
      " 3   id                     45466 non-null  object        \n",
      " 4   original_language      45455 non-null  object        \n",
      " 5   overview               44512 non-null  object        \n",
      " 6   popularity             45461 non-null  object        \n",
      " 7   production_companies   45463 non-null  object        \n",
      " 8   production_countries   45463 non-null  object        \n",
      " 9   release_date           45376 non-null  datetime64[ns]\n",
      " 10  revenue                45466 non-null  float64       \n",
      " 11  runtime                45203 non-null  float64       \n",
      " 12  spoken_languages       45460 non-null  object        \n",
      " 13  status                 45379 non-null  object        \n",
      " 14  tagline                20412 non-null  object        \n",
      " 15  title                  45460 non-null  object        \n",
      " 16  vote_average           45460 non-null  float64       \n",
      " 17  vote_count             45460 non-null  float64       \n",
      " 18  return                 45466 non-null  float64       \n",
      " 19  release_year           45466 non-null  int64         \n",
      " 20  release_month          45376 non-null  float64       \n",
      " 21  month_name_es          45376 non-null  object        \n",
      "dtypes: datetime64[ns](1), float64(7), int64(1), object(13)\n",
      "memory usage: 7.6+ MB\n"
     ]
    }
   ],
   "source": [
    "movies.info()"
   ]
  },
  {
   "cell_type": "markdown",
   "metadata": {},
   "source": [
    "Ahora me percato que la columna popularity tambien es de tipo object. Voy a tener que pasarla a tipo float para poder trabajar más cómodo"
   ]
  },
  {
   "cell_type": "code",
   "execution_count": 18,
   "metadata": {},
   "outputs": [],
   "source": [
    "movies['popularity'] =pd.to_numeric(movies['popularity'],errors='coerce')"
   ]
  },
  {
   "cell_type": "code",
   "execution_count": 19,
   "metadata": {},
   "outputs": [
    {
     "data": {
      "text/plain": [
       "np.int64(6)"
      ]
     },
     "execution_count": 19,
     "metadata": {},
     "output_type": "execute_result"
    }
   ],
   "source": [
    "cant=movies['popularity'].isna().sum()\n",
    "cant"
   ]
  },
  {
   "cell_type": "code",
   "execution_count": 20,
   "metadata": {},
   "outputs": [],
   "source": [
    "movies = movies.dropna(subset=['popularity'])"
   ]
  },
  {
   "cell_type": "markdown",
   "metadata": {},
   "source": [
    "Algunos campos, como belongs_to_collection, production_companies y otros (ver diccionario de datos) están anidados, esto es o bien tienen un diccionario o una lista como valores en cada fila, ¡deberán desanidarlos para poder y unirlos al dataset de nuevo hacer alguna de las consultas de la API! O bien buscar la manera de acceder a esos datos sin desanidarlos.\n"
   ]
  },
  {
   "cell_type": "code",
   "execution_count": 21,
   "metadata": {},
   "outputs": [
    {
     "name": "stdout",
     "output_type": "stream",
     "text": [
      "0    {'id': 10194, 'name': 'Toy Story Collection', ...\n",
      "1                                                  NaN\n",
      "2    {'id': 119050, 'name': 'Grumpy Old Men Collect...\n",
      "3                                                  NaN\n",
      "4    {'id': 96871, 'name': 'Father of the Bride Col...\n",
      "5                                                  NaN\n",
      "6                                                  NaN\n",
      "7                                                  NaN\n",
      "8                                                  NaN\n",
      "9    {'id': 645, 'name': 'James Bond Collection', '...\n",
      "Name: belongs_to_collection, dtype: object\n"
     ]
    }
   ],
   "source": [
    "# Mostrar algunos ejemplos de la columna\n",
    "print(movies['belongs_to_collection'].head(10))\n"
   ]
  },
  {
   "cell_type": "markdown",
   "metadata": {},
   "source": [
    "Vamos a realizar esta función porque el método explode() no funciona de la manera correcta"
   ]
  },
  {
   "cell_type": "code",
   "execution_count": 22,
   "metadata": {},
   "outputs": [],
   "source": [
    "def desanidar_belongs(row):\n",
    "    if pd.isna(row):\n",
    "        return None,None,None,None\n",
    "    else:\n",
    "        try:\n",
    "            data = eval(row)\n",
    "            if isinstance(data,dict):\n",
    "                return data.get('id'),data.get('name'),data.get('poster_path'),data.get('backdrop_path')\n",
    "            else:\n",
    "                return None,None,None,None\n",
    "        except Exception as e:\n",
    "            print(f'Error en la fila:{row}. Detalle:{e}')\n",
    "            return None,None,None,None\n",
    "                \n",
    "                \n",
    "                \n",
    "                \n",
    "desanidado = movies['belongs_to_collection'].apply(lambda row:pd.Series(desanidar_belongs(row)))\n",
    "\n",
    "desanidado.columns = ['belongs_to_collection_id', 'belongs_to_collection_name', 'belongs_to_collection_poster_path', 'belongs_to_collection_backdrop_path']"
   ]
  },
  {
   "cell_type": "code",
   "execution_count": 23,
   "metadata": {},
   "outputs": [],
   "source": [
    "movies = pd.concat([movies,desanidado],axis=1)\n",
    "\n",
    "movies.drop(columns=['belongs_to_collection'],inplace=True)"
   ]
  },
  {
   "cell_type": "markdown",
   "metadata": {},
   "source": [
    "Ahora vamos a realizar una función muy parecida pero para la columna genres"
   ]
  },
  {
   "cell_type": "code",
   "execution_count": 24,
   "metadata": {},
   "outputs": [],
   "source": [
    "def desanidar_genres(row):\n",
    "    if pd.isna(row):\n",
    "        return None,None\n",
    "    else:\n",
    "        try:\n",
    "            if pd.isna(row):\n",
    "                return None,None\n",
    "            genre_list = eval(row)\n",
    "            genre_id= [genre['id'] for genre in genre_list]\n",
    "            genre_names = [genre['name'] for genre in genre_list]\n",
    "            return genre_id,genre_names\n",
    "        except Exception as e:\n",
    "            print(f'Error en la fila_{row}. Detalle:{e}')\n",
    "            return None,None\n",
    "        \n",
    "        \n",
    "        \n",
    "desanidado_genre = movies['genres'].apply(lambda row: pd.Series(desanidar_genres(row)))\n",
    "\n",
    "desanidado_genre.columns = ['genre_id','genre_name']\n"
   ]
  },
  {
   "cell_type": "code",
   "execution_count": 25,
   "metadata": {},
   "outputs": [],
   "source": [
    "movies = pd.concat([movies,desanidado_genre],axis=1)"
   ]
  },
  {
   "cell_type": "code",
   "execution_count": 26,
   "metadata": {},
   "outputs": [],
   "source": [
    "movies.drop(columns=['genres'],inplace=True)"
   ]
  },
  {
   "cell_type": "code",
   "execution_count": 27,
   "metadata": {},
   "outputs": [
    {
     "name": "stdout",
     "output_type": "stream",
     "text": [
      "<class 'pandas.core.frame.DataFrame'>\n",
      "Index: 45460 entries, 0 to 45465\n",
      "Data columns (total 26 columns):\n",
      " #   Column                               Non-Null Count  Dtype         \n",
      "---  ------                               --------------  -----         \n",
      " 0   budget                               45460 non-null  float64       \n",
      " 1   id                                   45460 non-null  object        \n",
      " 2   original_language                    45449 non-null  object        \n",
      " 3   overview                             44506 non-null  object        \n",
      " 4   popularity                           45460 non-null  float64       \n",
      " 5   production_companies                 45460 non-null  object        \n",
      " 6   production_countries                 45460 non-null  object        \n",
      " 7   release_date                         45376 non-null  datetime64[ns]\n",
      " 8   revenue                              45460 non-null  float64       \n",
      " 9   runtime                              45203 non-null  float64       \n",
      " 10  spoken_languages                     45460 non-null  object        \n",
      " 11  status                               45379 non-null  object        \n",
      " 12  tagline                              20412 non-null  object        \n",
      " 13  title                                45460 non-null  object        \n",
      " 14  vote_average                         45460 non-null  float64       \n",
      " 15  vote_count                           45460 non-null  float64       \n",
      " 16  return                               45460 non-null  float64       \n",
      " 17  release_year                         45460 non-null  int64         \n",
      " 18  release_month                        45376 non-null  float64       \n",
      " 19  month_name_es                        45376 non-null  object        \n",
      " 20  belongs_to_collection_id             4490 non-null   float64       \n",
      " 21  belongs_to_collection_name           4490 non-null   object        \n",
      " 22  belongs_to_collection_poster_path    3947 non-null   object        \n",
      " 23  belongs_to_collection_backdrop_path  3262 non-null   object        \n",
      " 24  genre_id                             45460 non-null  object        \n",
      " 25  genre_name                           45460 non-null  object        \n",
      "dtypes: datetime64[ns](1), float64(9), int64(1), object(15)\n",
      "memory usage: 9.4+ MB\n"
     ]
    }
   ],
   "source": [
    "movies.info()"
   ]
  },
  {
   "cell_type": "markdown",
   "metadata": {},
   "source": [
    "Vamos a realizar el mismo procedimiento para production_companies"
   ]
  },
  {
   "cell_type": "code",
   "execution_count": 28,
   "metadata": {},
   "outputs": [],
   "source": [
    "def desanidar_production_companies(row):\n",
    "    if pd.isna(row):\n",
    "        return None,None\n",
    "    else:\n",
    "        try:\n",
    "            if pd.isna(row):\n",
    "                return None,None\n",
    "            companies_list = eval(row)\n",
    "            companies_id= [company['id'] for company in companies_list]\n",
    "            companies_names = [company['name'] for company in companies_list]\n",
    "            return companies_names,companies_id\n",
    "        except Exception as e:\n",
    "            print(f'Error en la fila_{row}. Detalle:{e}')\n",
    "            return None,None\n",
    "        \n",
    "desanidados_companies = movies['production_companies'].apply(lambda row: pd.Series(desanidar_production_companies(row)))\n",
    "\n",
    "desanidados_companies.columns = ['company_names', 'company_ids']"
   ]
  },
  {
   "cell_type": "code",
   "execution_count": 29,
   "metadata": {},
   "outputs": [],
   "source": [
    "movies = pd.concat([movies,desanidados_companies],axis=1)\n",
    "\n",
    "movies.drop(columns=['production_companies'],inplace=True)"
   ]
  },
  {
   "cell_type": "code",
   "execution_count": 30,
   "metadata": {},
   "outputs": [
    {
     "name": "stdout",
     "output_type": "stream",
     "text": [
      "<class 'pandas.core.frame.DataFrame'>\n",
      "Index: 45460 entries, 0 to 45465\n",
      "Data columns (total 27 columns):\n",
      " #   Column                               Non-Null Count  Dtype         \n",
      "---  ------                               --------------  -----         \n",
      " 0   budget                               45460 non-null  float64       \n",
      " 1   id                                   45460 non-null  object        \n",
      " 2   original_language                    45449 non-null  object        \n",
      " 3   overview                             44506 non-null  object        \n",
      " 4   popularity                           45460 non-null  float64       \n",
      " 5   production_countries                 45460 non-null  object        \n",
      " 6   release_date                         45376 non-null  datetime64[ns]\n",
      " 7   revenue                              45460 non-null  float64       \n",
      " 8   runtime                              45203 non-null  float64       \n",
      " 9   spoken_languages                     45460 non-null  object        \n",
      " 10  status                               45379 non-null  object        \n",
      " 11  tagline                              20412 non-null  object        \n",
      " 12  title                                45460 non-null  object        \n",
      " 13  vote_average                         45460 non-null  float64       \n",
      " 14  vote_count                           45460 non-null  float64       \n",
      " 15  return                               45460 non-null  float64       \n",
      " 16  release_year                         45460 non-null  int64         \n",
      " 17  release_month                        45376 non-null  float64       \n",
      " 18  month_name_es                        45376 non-null  object        \n",
      " 19  belongs_to_collection_id             4490 non-null   float64       \n",
      " 20  belongs_to_collection_name           4490 non-null   object        \n",
      " 21  belongs_to_collection_poster_path    3947 non-null   object        \n",
      " 22  belongs_to_collection_backdrop_path  3262 non-null   object        \n",
      " 23  genre_id                             45460 non-null  object        \n",
      " 24  genre_name                           45460 non-null  object        \n",
      " 25  company_names                        45460 non-null  object        \n",
      " 26  company_ids                          45460 non-null  object        \n",
      "dtypes: datetime64[ns](1), float64(9), int64(1), object(16)\n",
      "memory usage: 9.7+ MB\n"
     ]
    }
   ],
   "source": [
    "movies.info()"
   ]
  },
  {
   "cell_type": "markdown",
   "metadata": {},
   "source": [
    "Ahora con production_countries"
   ]
  },
  {
   "cell_type": "code",
   "execution_count": 31,
   "metadata": {},
   "outputs": [],
   "source": [
    "def desanidar_production_countries(row):\n",
    "    if pd.isna(row):\n",
    "        return None,None\n",
    "    else:\n",
    "        try:\n",
    "            if pd.isna(row):\n",
    "                return None,None\n",
    "            country_list = eval(row)\n",
    "            country_names= [country['name'] for country in country_list]\n",
    "            country_codes = [country['iso_3166_1'] for country in country_list]\n",
    "            return country_names,country_codes\n",
    "        except Exception as e:\n",
    "            print(f'Error en la fila_{row}. Detalle:{e}')\n",
    "            return None,None\n",
    "        \n",
    "desanidados_countries = movies['production_countries'].apply(lambda row: pd.Series(desanidar_production_countries(row)))\n",
    "\n",
    "desanidados_countries.columns = ['country_names', 'country_codes']"
   ]
  },
  {
   "cell_type": "code",
   "execution_count": 32,
   "metadata": {},
   "outputs": [],
   "source": [
    "movies=pd.concat([movies,desanidados_countries],axis=1)\n",
    "\n",
    "movies.drop(columns=['production_countries'],inplace=True)"
   ]
  },
  {
   "cell_type": "code",
   "execution_count": 33,
   "metadata": {},
   "outputs": [
    {
     "data": {
      "text/html": [
       "<div>\n",
       "<style scoped>\n",
       "    .dataframe tbody tr th:only-of-type {\n",
       "        vertical-align: middle;\n",
       "    }\n",
       "\n",
       "    .dataframe tbody tr th {\n",
       "        vertical-align: top;\n",
       "    }\n",
       "\n",
       "    .dataframe thead th {\n",
       "        text-align: right;\n",
       "    }\n",
       "</style>\n",
       "<table border=\"1\" class=\"dataframe\">\n",
       "  <thead>\n",
       "    <tr style=\"text-align: right;\">\n",
       "      <th></th>\n",
       "      <th>budget</th>\n",
       "      <th>id</th>\n",
       "      <th>original_language</th>\n",
       "      <th>overview</th>\n",
       "      <th>popularity</th>\n",
       "      <th>release_date</th>\n",
       "      <th>revenue</th>\n",
       "      <th>runtime</th>\n",
       "      <th>spoken_languages</th>\n",
       "      <th>status</th>\n",
       "      <th>...</th>\n",
       "      <th>belongs_to_collection_id</th>\n",
       "      <th>belongs_to_collection_name</th>\n",
       "      <th>belongs_to_collection_poster_path</th>\n",
       "      <th>belongs_to_collection_backdrop_path</th>\n",
       "      <th>genre_id</th>\n",
       "      <th>genre_name</th>\n",
       "      <th>company_names</th>\n",
       "      <th>company_ids</th>\n",
       "      <th>country_names</th>\n",
       "      <th>country_codes</th>\n",
       "    </tr>\n",
       "  </thead>\n",
       "  <tbody>\n",
       "    <tr>\n",
       "      <th>0</th>\n",
       "      <td>30000000.0</td>\n",
       "      <td>862</td>\n",
       "      <td>en</td>\n",
       "      <td>Led by Woody, Andy's toys live happily in his ...</td>\n",
       "      <td>21.946943</td>\n",
       "      <td>1995-10-30</td>\n",
       "      <td>373554033.0</td>\n",
       "      <td>81.0</td>\n",
       "      <td>[{'iso_639_1': 'en', 'name': 'English'}]</td>\n",
       "      <td>Released</td>\n",
       "      <td>...</td>\n",
       "      <td>10194.0</td>\n",
       "      <td>Toy Story Collection</td>\n",
       "      <td>/7G9915LfUQ2lVfwMEEhDsn3kT4B.jpg</td>\n",
       "      <td>/9FBwqcd9IRruEDUrTdcaafOMKUq.jpg</td>\n",
       "      <td>[16, 35, 10751]</td>\n",
       "      <td>[Animation, Comedy, Family]</td>\n",
       "      <td>[Pixar Animation Studios]</td>\n",
       "      <td>[3]</td>\n",
       "      <td>[United States of America]</td>\n",
       "      <td>[US]</td>\n",
       "    </tr>\n",
       "    <tr>\n",
       "      <th>1</th>\n",
       "      <td>65000000.0</td>\n",
       "      <td>8844</td>\n",
       "      <td>en</td>\n",
       "      <td>When siblings Judy and Peter discover an encha...</td>\n",
       "      <td>17.015539</td>\n",
       "      <td>1995-12-15</td>\n",
       "      <td>262797249.0</td>\n",
       "      <td>104.0</td>\n",
       "      <td>[{'iso_639_1': 'en', 'name': 'English'}, {'iso...</td>\n",
       "      <td>Released</td>\n",
       "      <td>...</td>\n",
       "      <td>NaN</td>\n",
       "      <td>None</td>\n",
       "      <td>None</td>\n",
       "      <td>None</td>\n",
       "      <td>[12, 14, 10751]</td>\n",
       "      <td>[Adventure, Fantasy, Family]</td>\n",
       "      <td>[TriStar Pictures, Teitler Film, Interscope Co...</td>\n",
       "      <td>[559, 2550, 10201]</td>\n",
       "      <td>[United States of America]</td>\n",
       "      <td>[US]</td>\n",
       "    </tr>\n",
       "    <tr>\n",
       "      <th>2</th>\n",
       "      <td>0.0</td>\n",
       "      <td>15602</td>\n",
       "      <td>en</td>\n",
       "      <td>A family wedding reignites the ancient feud be...</td>\n",
       "      <td>11.712900</td>\n",
       "      <td>1995-12-22</td>\n",
       "      <td>0.0</td>\n",
       "      <td>101.0</td>\n",
       "      <td>[{'iso_639_1': 'en', 'name': 'English'}]</td>\n",
       "      <td>Released</td>\n",
       "      <td>...</td>\n",
       "      <td>119050.0</td>\n",
       "      <td>Grumpy Old Men Collection</td>\n",
       "      <td>/nLvUdqgPgm3F85NMCii9gVFUcet.jpg</td>\n",
       "      <td>/hypTnLot2z8wpFS7qwsQHW1uV8u.jpg</td>\n",
       "      <td>[10749, 35]</td>\n",
       "      <td>[Romance, Comedy]</td>\n",
       "      <td>[Warner Bros., Lancaster Gate]</td>\n",
       "      <td>[6194, 19464]</td>\n",
       "      <td>[United States of America]</td>\n",
       "      <td>[US]</td>\n",
       "    </tr>\n",
       "    <tr>\n",
       "      <th>3</th>\n",
       "      <td>16000000.0</td>\n",
       "      <td>31357</td>\n",
       "      <td>en</td>\n",
       "      <td>Cheated on, mistreated and stepped on, the wom...</td>\n",
       "      <td>3.859495</td>\n",
       "      <td>1995-12-22</td>\n",
       "      <td>81452156.0</td>\n",
       "      <td>127.0</td>\n",
       "      <td>[{'iso_639_1': 'en', 'name': 'English'}]</td>\n",
       "      <td>Released</td>\n",
       "      <td>...</td>\n",
       "      <td>NaN</td>\n",
       "      <td>None</td>\n",
       "      <td>None</td>\n",
       "      <td>None</td>\n",
       "      <td>[35, 18, 10749]</td>\n",
       "      <td>[Comedy, Drama, Romance]</td>\n",
       "      <td>[Twentieth Century Fox Film Corporation]</td>\n",
       "      <td>[306]</td>\n",
       "      <td>[United States of America]</td>\n",
       "      <td>[US]</td>\n",
       "    </tr>\n",
       "    <tr>\n",
       "      <th>4</th>\n",
       "      <td>0.0</td>\n",
       "      <td>11862</td>\n",
       "      <td>en</td>\n",
       "      <td>Just when George Banks has recovered from his ...</td>\n",
       "      <td>8.387519</td>\n",
       "      <td>1995-02-10</td>\n",
       "      <td>76578911.0</td>\n",
       "      <td>106.0</td>\n",
       "      <td>[{'iso_639_1': 'en', 'name': 'English'}]</td>\n",
       "      <td>Released</td>\n",
       "      <td>...</td>\n",
       "      <td>96871.0</td>\n",
       "      <td>Father of the Bride Collection</td>\n",
       "      <td>/nts4iOmNnq7GNicycMJ9pSAn204.jpg</td>\n",
       "      <td>/7qwE57OVZmMJChBpLEbJEmzUydk.jpg</td>\n",
       "      <td>[35]</td>\n",
       "      <td>[Comedy]</td>\n",
       "      <td>[Sandollar Productions, Touchstone Pictures]</td>\n",
       "      <td>[5842, 9195]</td>\n",
       "      <td>[United States of America]</td>\n",
       "      <td>[US]</td>\n",
       "    </tr>\n",
       "  </tbody>\n",
       "</table>\n",
       "<p>5 rows × 28 columns</p>\n",
       "</div>"
      ],
      "text/plain": [
       "       budget     id original_language  \\\n",
       "0  30000000.0    862                en   \n",
       "1  65000000.0   8844                en   \n",
       "2         0.0  15602                en   \n",
       "3  16000000.0  31357                en   \n",
       "4         0.0  11862                en   \n",
       "\n",
       "                                            overview  popularity release_date  \\\n",
       "0  Led by Woody, Andy's toys live happily in his ...   21.946943   1995-10-30   \n",
       "1  When siblings Judy and Peter discover an encha...   17.015539   1995-12-15   \n",
       "2  A family wedding reignites the ancient feud be...   11.712900   1995-12-22   \n",
       "3  Cheated on, mistreated and stepped on, the wom...    3.859495   1995-12-22   \n",
       "4  Just when George Banks has recovered from his ...    8.387519   1995-02-10   \n",
       "\n",
       "       revenue  runtime                                   spoken_languages  \\\n",
       "0  373554033.0     81.0           [{'iso_639_1': 'en', 'name': 'English'}]   \n",
       "1  262797249.0    104.0  [{'iso_639_1': 'en', 'name': 'English'}, {'iso...   \n",
       "2          0.0    101.0           [{'iso_639_1': 'en', 'name': 'English'}]   \n",
       "3   81452156.0    127.0           [{'iso_639_1': 'en', 'name': 'English'}]   \n",
       "4   76578911.0    106.0           [{'iso_639_1': 'en', 'name': 'English'}]   \n",
       "\n",
       "     status  ... belongs_to_collection_id      belongs_to_collection_name  \\\n",
       "0  Released  ...                  10194.0            Toy Story Collection   \n",
       "1  Released  ...                      NaN                            None   \n",
       "2  Released  ...                 119050.0       Grumpy Old Men Collection   \n",
       "3  Released  ...                      NaN                            None   \n",
       "4  Released  ...                  96871.0  Father of the Bride Collection   \n",
       "\n",
       "   belongs_to_collection_poster_path  belongs_to_collection_backdrop_path  \\\n",
       "0   /7G9915LfUQ2lVfwMEEhDsn3kT4B.jpg     /9FBwqcd9IRruEDUrTdcaafOMKUq.jpg   \n",
       "1                               None                                 None   \n",
       "2   /nLvUdqgPgm3F85NMCii9gVFUcet.jpg     /hypTnLot2z8wpFS7qwsQHW1uV8u.jpg   \n",
       "3                               None                                 None   \n",
       "4   /nts4iOmNnq7GNicycMJ9pSAn204.jpg     /7qwE57OVZmMJChBpLEbJEmzUydk.jpg   \n",
       "\n",
       "          genre_id                    genre_name  \\\n",
       "0  [16, 35, 10751]   [Animation, Comedy, Family]   \n",
       "1  [12, 14, 10751]  [Adventure, Fantasy, Family]   \n",
       "2      [10749, 35]             [Romance, Comedy]   \n",
       "3  [35, 18, 10749]      [Comedy, Drama, Romance]   \n",
       "4             [35]                      [Comedy]   \n",
       "\n",
       "                                       company_names         company_ids  \\\n",
       "0                          [Pixar Animation Studios]                 [3]   \n",
       "1  [TriStar Pictures, Teitler Film, Interscope Co...  [559, 2550, 10201]   \n",
       "2                     [Warner Bros., Lancaster Gate]       [6194, 19464]   \n",
       "3           [Twentieth Century Fox Film Corporation]               [306]   \n",
       "4       [Sandollar Productions, Touchstone Pictures]        [5842, 9195]   \n",
       "\n",
       "                country_names country_codes  \n",
       "0  [United States of America]          [US]  \n",
       "1  [United States of America]          [US]  \n",
       "2  [United States of America]          [US]  \n",
       "3  [United States of America]          [US]  \n",
       "4  [United States of America]          [US]  \n",
       "\n",
       "[5 rows x 28 columns]"
      ]
     },
     "execution_count": 33,
     "metadata": {},
     "output_type": "execute_result"
    }
   ],
   "source": [
    "movies.head()"
   ]
  },
  {
   "cell_type": "markdown",
   "metadata": {},
   "source": [
    "Ahora lo hacemos con spoken language"
   ]
  },
  {
   "cell_type": "code",
   "execution_count": 34,
   "metadata": {},
   "outputs": [],
   "source": [
    "def desanidar_spoken_languages(row):\n",
    "    if pd.isna(row):\n",
    "        return None,None\n",
    "    else:\n",
    "        try:\n",
    "            if pd.isna(row):\n",
    "                return None,None\n",
    "            languages_list = eval(row)\n",
    "            language_names= [lang['name'] for lang in languages_list]\n",
    "            language_codes = [lang['iso_639_1'] for lang in languages_list]\n",
    "            return language_names,language_codes\n",
    "        except Exception as e:\n",
    "            print(f'Error en la fila_{row}. Detalle:{e}')\n",
    "            return None,None\n",
    "        \n",
    "desanidados_languages = movies['spoken_languages'].apply(lambda row: pd.Series(desanidar_spoken_languages(row)))\n",
    "\n",
    "desanidados_languages.columns = ['language_names', 'launguage_codes']"
   ]
  },
  {
   "cell_type": "code",
   "execution_count": 35,
   "metadata": {},
   "outputs": [],
   "source": [
    "movies = pd.concat([movies,desanidados_languages],axis=1)\n",
    "\n",
    "movies.drop(columns=['spoken_languages'],inplace=True)"
   ]
  },
  {
   "cell_type": "markdown",
   "metadata": {},
   "source": [
    "Voy a realizar una ultima eliminación de columnas belongs_to_collection_poster_path y belongs_to_collection_backdrop_path"
   ]
  },
  {
   "cell_type": "code",
   "execution_count": 36,
   "metadata": {},
   "outputs": [],
   "source": [
    "belong=[ 'belongs_to_collection_poster_path', 'belongs_to_collection_backdrop_path']\n",
    "\n",
    "movies = movies.drop(columns=belong)"
   ]
  },
  {
   "cell_type": "markdown",
   "metadata": {},
   "source": [
    "Hemos finalizado momentaneamente la limpieza del dataset Movie. Seguro se va a corregir algunas cosas a medidas que sigamos trabajando."
   ]
  },
  {
   "cell_type": "markdown",
   "metadata": {},
   "source": [
    "Vamos a convertir la columna id a una columna de tipo int."
   ]
  },
  {
   "cell_type": "code",
   "execution_count": 37,
   "metadata": {},
   "outputs": [],
   "source": [
    "movies['id'] = pd.to_numeric(movies['id'], errors='coerce').fillna(0).astype('int64')\n"
   ]
  },
  {
   "cell_type": "markdown",
   "metadata": {},
   "source": [
    "## Limpieza de Credits dataset\n"
   ]
  },
  {
   "cell_type": "code",
   "execution_count": 55,
   "metadata": {},
   "outputs": [],
   "source": [
    "credits = pd.read_csv('C:\\\\Users\\\\User\\\\OneDrive\\\\Escritorio\\\\Proyecto Final Individual I\\\\Datos\\\\credits.csv')"
   ]
  },
  {
   "cell_type": "code",
   "execution_count": 56,
   "metadata": {},
   "outputs": [
    {
     "data": {
      "text/html": [
       "<div>\n",
       "<style scoped>\n",
       "    .dataframe tbody tr th:only-of-type {\n",
       "        vertical-align: middle;\n",
       "    }\n",
       "\n",
       "    .dataframe tbody tr th {\n",
       "        vertical-align: top;\n",
       "    }\n",
       "\n",
       "    .dataframe thead th {\n",
       "        text-align: right;\n",
       "    }\n",
       "</style>\n",
       "<table border=\"1\" class=\"dataframe\">\n",
       "  <thead>\n",
       "    <tr style=\"text-align: right;\">\n",
       "      <th></th>\n",
       "      <th>cast</th>\n",
       "      <th>crew</th>\n",
       "      <th>id</th>\n",
       "    </tr>\n",
       "  </thead>\n",
       "  <tbody>\n",
       "    <tr>\n",
       "      <th>0</th>\n",
       "      <td>[{'cast_id': 14, 'character': 'Woody (voice)',...</td>\n",
       "      <td>[{'credit_id': '52fe4284c3a36847f8024f49', 'de...</td>\n",
       "      <td>862</td>\n",
       "    </tr>\n",
       "    <tr>\n",
       "      <th>1</th>\n",
       "      <td>[{'cast_id': 1, 'character': 'Alan Parrish', '...</td>\n",
       "      <td>[{'credit_id': '52fe44bfc3a36847f80a7cd1', 'de...</td>\n",
       "      <td>8844</td>\n",
       "    </tr>\n",
       "    <tr>\n",
       "      <th>2</th>\n",
       "      <td>[{'cast_id': 2, 'character': 'Max Goldman', 'c...</td>\n",
       "      <td>[{'credit_id': '52fe466a9251416c75077a89', 'de...</td>\n",
       "      <td>15602</td>\n",
       "    </tr>\n",
       "    <tr>\n",
       "      <th>3</th>\n",
       "      <td>[{'cast_id': 1, 'character': \"Savannah 'Vannah...</td>\n",
       "      <td>[{'credit_id': '52fe44779251416c91011acb', 'de...</td>\n",
       "      <td>31357</td>\n",
       "    </tr>\n",
       "    <tr>\n",
       "      <th>4</th>\n",
       "      <td>[{'cast_id': 1, 'character': 'George Banks', '...</td>\n",
       "      <td>[{'credit_id': '52fe44959251416c75039ed7', 'de...</td>\n",
       "      <td>11862</td>\n",
       "    </tr>\n",
       "  </tbody>\n",
       "</table>\n",
       "</div>"
      ],
      "text/plain": [
       "                                                cast  \\\n",
       "0  [{'cast_id': 14, 'character': 'Woody (voice)',...   \n",
       "1  [{'cast_id': 1, 'character': 'Alan Parrish', '...   \n",
       "2  [{'cast_id': 2, 'character': 'Max Goldman', 'c...   \n",
       "3  [{'cast_id': 1, 'character': \"Savannah 'Vannah...   \n",
       "4  [{'cast_id': 1, 'character': 'George Banks', '...   \n",
       "\n",
       "                                                crew     id  \n",
       "0  [{'credit_id': '52fe4284c3a36847f8024f49', 'de...    862  \n",
       "1  [{'credit_id': '52fe44bfc3a36847f80a7cd1', 'de...   8844  \n",
       "2  [{'credit_id': '52fe466a9251416c75077a89', 'de...  15602  \n",
       "3  [{'credit_id': '52fe44779251416c91011acb', 'de...  31357  \n",
       "4  [{'credit_id': '52fe44959251416c75039ed7', 'de...  11862  "
      ]
     },
     "execution_count": 56,
     "metadata": {},
     "output_type": "execute_result"
    }
   ],
   "source": [
    "credits.head()"
   ]
  },
  {
   "cell_type": "markdown",
   "metadata": {},
   "source": [
    "Podemos observar que tenemos el mismo problemas de anidaciones con este dataset. Vamos a realizar una funcion para desanidar como lo hicimos anteriormente."
   ]
  },
  {
   "cell_type": "code",
   "execution_count": 57,
   "metadata": {},
   "outputs": [],
   "source": [
    "def desanidar_cast(row):\n",
    "    if pd.isna(row):\n",
    "        return None,None,None,None,None,None,None\n",
    "    else:\n",
    "        try:\n",
    "            if pd.isna(row):\n",
    "                return None,None,None,None,None,None,None\n",
    "            cast_list = eval(row)\n",
    "            cast_names= [cast['name'] for cast in cast_list]\n",
    "            cast_characters=[cast['character'] for cast in cast_list]\n",
    "            cast_ids=[cast['id'] for cast in cast_list]\n",
    "            cast_genders=[cast['gender'] for cast in cast_list]\n",
    "            cast_orders=[cast['order'] for cast in cast_list]\n",
    "            cast_profile_path=[cast['profile_path'] for cast in cast_list]\n",
    "            cast_credit_ids=[cast['credit_id'] for cast in cast_list]\n",
    "            return cast_names,cast_characters,cast_ids,cast_genders,cast_orders,cast_profile_path,cast_credit_ids\n",
    "        except Exception as e:\n",
    "            print(f'Error en la fila_{row}. Detalle:{e}')\n",
    "            return None,None,None,None,None,None,None\n",
    "        \n",
    "desanidados_cast = credits['cast'].apply(lambda row: pd.Series(desanidar_cast(row)))\n",
    "\n",
    "desanidados_cast.columns = ['cast_names', 'cast_characters', 'cast_ids', 'cast_genders', 'cast_orders', 'cast_profile_paths', 'cast_credit_ids']"
   ]
  },
  {
   "cell_type": "code",
   "execution_count": 58,
   "metadata": {},
   "outputs": [],
   "source": [
    "credits = pd.concat([credits,desanidados_cast],axis=1)\n",
    "\n",
    "credits.drop(columns=['cast'],inplace=True)"
   ]
  },
  {
   "cell_type": "code",
   "execution_count": 59,
   "metadata": {},
   "outputs": [
    {
     "data": {
      "text/plain": [
       "crew\n",
       "[]                                                                                                                                                                                                                                                                                                                                                                                                                                                                                                                                                                                                                                                                                                                                                                                                                                                                                                                                                                                                                                                                                                                                                                                                                                                                                                                                                                                                                                                                                                                                                                                                                                                                                                                                                                                                                                                                                                                                                                                                                                                                                                                                                                                                                                                                                                                                                                                                                                                                                                                                                                                                                                                                                                                                                                                                                                                                                                                                                                                                                                                                                                                                                                                                                                                                                                                                                                                                                                                                                                                                                                                                                                                                                                                                                                                           771\n",
       "[{'credit_id': '52fe4ac89251416c750edd47', 'department': 'Directing', 'gender': 2, 'id': 108481, 'job': 'Director', 'name': 'JP Siili', 'profile_path': None}, {'credit_id': '52fe4ac89251416c750edd4d', 'department': 'Writing', 'gender': 2, 'id': 108481, 'job': 'Writer', 'name': 'JP Siili', 'profile_path': None}]                                                                                                                                                                                                                                                                                                                                                                                                                                                                                                                                                                                                                                                                                                                                                                                                                                                                                                                                                                                                                                                                                                                                                                                                                                                                                                                                                                                                                                                                                                                                                                                                                                                                                                                                                                                                                                                                                                                                                                                                                                                                                                                                                                                                                                                                                                                                                                                                                                                                                                                                                                                                                                                                                                                                                                                                                                                                                                                                                                                                                                                                                                                                                                                                                                                                                                                                                                                                                                                                       3\n",
       "[{'credit_id': '55c0d60e9251410f19001cec', 'department': 'Production', 'gender': 1, 'id': 32, 'job': 'Producer', 'name': 'Robin Wright', 'profile_path': '/tXfQTgcIEPP7gtVdJ44ZxZPhacn.jpg'}, {'credit_id': '55c0d66f9251410f27001e31', 'department': 'Production', 'gender': 1, 'id': 3965, 'job': 'Casting', 'name': 'Deborah Aquila', 'profile_path': '/7OBiqW30sXcW4f2xMds53L4JBN5.jpg'}, {'credit_id': '5823222f9251410cac00bf74', 'department': 'Writing', 'gender': 0, 'id': 8453, 'job': 'Novel', 'name': 'Stanisław Lem', 'profile_path': '/kk2RRgH2lkvvtknnXOitJW0jcV2.jpg'}, {'credit_id': '55c0d56a9251410ee7001bfe', 'department': 'Production', 'gender': 0, 'id': 46259, 'job': 'Producer', 'name': 'Reinhard Brundig', 'profile_path': None}, {'credit_id': '55c0d62e9251410f58001ca9', 'department': 'Sound', 'gender': 2, 'id': 46266, 'job': 'Music', 'name': 'Max Richter', 'profile_path': '/keYPSx2YlyRCk8KY7YaZ81fZ1Y3.jpg'}, {'credit_id': '55c0d642c3a36822fd001b29', 'department': 'Crew', 'gender': 0, 'id': 53617, 'job': 'Cinematography', 'name': 'Michal Englert', 'profile_path': None}, {'credit_id': '52fe4b2c9251416c910d2547', 'department': 'Writing', 'gender': 2, 'id': 56198, 'job': 'Screenplay', 'name': 'Ari Folman', 'profile_path': '/xwCWMkK6mm6xSohXAXLyLVTddnO.jpg'}, {'credit_id': '52fe4b2c9251416c910d2541', 'department': 'Directing', 'gender': 2, 'id': 56198, 'job': 'Director', 'name': 'Ari Folman', 'profile_path': '/xwCWMkK6mm6xSohXAXLyLVTddnO.jpg'}, {'credit_id': '55c0d658c3a36822fd001b2b', 'department': 'Editing', 'gender': 0, 'id': 72574, 'job': 'Editor', 'name': 'Nili Feller', 'profile_path': None}, {'credit_id': '55c0d57e9251410ee7001c04', 'department': 'Production', 'gender': 2, 'id': 100748, 'job': 'Producer', 'name': 'Sébastien Delloye', 'profile_path': None}, {'credit_id': '55c0d6c3c3a36823f7001f90', 'department': 'Art', 'gender': 0, 'id': 124806, 'job': 'Production Design', 'name': 'David Polonsky', 'profile_path': None}, {'credit_id': '55c0d591c3a3682253001b86', 'department': 'Production', 'gender': 0, 'id': 936755, 'job': 'Producer', 'name': 'Piotr Dzieciol', 'profile_path': None}, {'credit_id': '55c0d5b6c3a3682379001e3c', 'department': 'Production', 'gender': 0, 'id': 979225, 'job': 'Producer', 'name': 'Ewa Puszczynska', 'profile_path': None}, {'credit_id': '55c0d6ac9251410f19001cf7', 'department': 'Production', 'gender': 1, 'id': 1034748, 'job': 'Casting', 'name': 'Tricia Wood', 'profile_path': None}, {'credit_id': '52fe4b2c9251416c910d254d', 'department': 'Production', 'gender': 0, 'id': 1133362, 'job': 'Producer', 'name': 'David Grumbach', 'profile_path': None}, {'credit_id': '52fe4b2c9251416c910d2553', 'department': 'Production', 'gender': 0, 'id': 1133363, 'job': 'Producer', 'name': 'Eitan Mansuri', 'profile_path': None}, {'credit_id': '55c0d6db9251410d7b001ad8', 'department': 'Costume & Make-Up', 'gender': 0, 'id': 1322407, 'job': 'Costume Design', 'name': 'Mandi Line', 'profile_path': None}, {'credit_id': '55c0d6849251410d7b001acf', 'department': 'Production', 'gender': 0, 'id': 1493161, 'job': 'Casting', 'name': 'Erin Toner', 'profile_path': None}, {'credit_id': '55c0d70fc3a36823f7001f97', 'department': 'Visual Effects', 'gender': 0, 'id': 1493546, 'job': 'Animation Director', 'name': 'Yoni Goodman', 'profile_path': None}, {'credit_id': '55c0d733c3a3682379001e7b', 'department': 'Visual Effects', 'gender': 0, 'id': 1493547, 'job': 'Animation Supervisor', 'name': 'Sefi Gayego', 'profile_path': None}, {'credit_id': '5718b0809251417a220094c0', 'department': 'Directing', 'gender': 0, 'id': 1608656, 'job': 'Script Supervisor', 'name': 'Barbara Krieger', 'profile_path': None}]      2\n",
       "[{'credit_id': '52fe454f9251416c75052209', 'department': 'Directing', 'gender': 2, 'id': 120229, 'job': 'Director', 'name': 'Jafar Panahi', 'profile_path': '/a8HN99enx3plYkpb1UK1Jl6qnmS.jpg'}, {'credit_id': '52fe454f9251416c7505220f', 'department': 'Writing', 'gender': 2, 'id': 120229, 'job': 'Writer', 'name': 'Jafar Panahi', 'profile_path': '/a8HN99enx3plYkpb1UK1Jl6qnmS.jpg'}, {'credit_id': '52fe454f9251416c75052215', 'department': 'Writing', 'gender': 0, 'id': 129890, 'job': 'Writer', 'name': 'Shadmehr Rastin', 'profile_path': None}, {'credit_id': '591d891dc3a3687a6401eaa3', 'department': 'Crew', 'gender': 0, 'id': 1819067, 'job': 'Cinematography', 'name': 'Rami Agami', 'profile_path': None}]                                                                                                                                                                                                                                                                                                                                                                                                                                                                                                                                                                                                                                                                                                                                                                                                                                                                                                                                                                                                                                                                                                                                                                                                                                                                                                                                                                                                                                                                                                                                                                                                                                                                                                                                                                                                                                                                                                                                                                                                                                                                                                                                                                                                                                                                                                                                                                                                                                                                                                                                                                                                                                                                                                                                                                                                                                                                                                                                                                                                                                                                2\n",
       "[{'credit_id': '52fe43de9251416c750213ff', 'department': 'Directing', 'gender': 2, 'id': 65428, 'job': 'Director', 'name': 'Michael Haigney', 'profile_path': None}, {'credit_id': '52fe43de9251416c75021405', 'department': 'Writing', 'gender': 0, 'id': 65429, 'job': 'Screenplay', 'name': 'Kunihiko Yuyama', 'profile_path': '/9z3LqqCMRZWyptfIZnlAdG7CnaZ.jpg'}, {'credit_id': '52fe43de9251416c7502140b', 'department': 'Directing', 'gender': 0, 'id': 65429, 'job': 'Director', 'name': 'Kunihiko Yuyama', 'profile_path': '/9z3LqqCMRZWyptfIZnlAdG7CnaZ.jpg'}, {'credit_id': '52fe43de9251416c75021411', 'department': 'Writing', 'gender': 0, 'id': 65430, 'job': 'Screenplay', 'name': 'Takeshi Shudo', 'profile_path': None}]                                                                                                                                                                                                                                                                                                                                                                                                                                                                                                                                                                                                                                                                                                                                                                                                                                                                                                                                                                                                                                                                                                                                                                                                                                                                                                                                                                                                                                                                                                                                                                                                                                                                                                                                                                                                                                                                                                                                                                                                                                                                                                                                                                                                                                                                                                                                                                                                                                                                                                                                                                                                                                                                                                                                                                                                                                                                                                                                                                                                                                                     2\n",
       "                                                                                                                                                                                                                                                                                                                                                                                                                                                                                                                                                                                                                                                                                                                                                                                                                                                                                                                                                                                                                                                                                                                                                                                                                                                                                                                                                                                                                                                                                                                                                                                                                                                                                                                                                                                                                                                                                                                                                                                                                                                                                                                                                                                                                                                                                                                                                                                                                                                                                                                                                                                                                                                                                                                                                                                                                                                                                                                                                                                                                                                                                                                                                                                                                                                                                                                                                                                                                                                                                                                                                                                                                                                                                                                                                                                            ... \n",
       "[{'credit_id': '5894a97d925141426c00818c', 'department': 'Directing', 'gender': 0, 'id': 1182809, 'job': 'Director', 'name': 'Hamid Nematollah', 'profile_path': None}, {'credit_id': '5894a9a09251414280007e4e', 'department': 'Production', 'gender': 0, 'id': 1182809, 'job': 'Producer', 'name': 'Hamid Nematollah', 'profile_path': None}, {'credit_id': '5894aa6fc3a36840a700812c', 'department': 'Camera', 'gender': 0, 'id': 1543705, 'job': 'Camera Supervisor', 'name': 'Farshad Mohammadi', 'profile_path': None}, {'credit_id': '5894a9dd925141427e007a35', 'department': 'Crew', 'gender': 0, 'id': 1749842, 'job': 'Script', 'name': 'Masoumeh Bayat', 'profile_path': None}, {'credit_id': '5894ab82c3a368409f007e40', 'department': 'Editing', 'gender': 0, 'id': 1749847, 'job': 'Editor', 'name': 'Mehdi Saadi', 'profile_path': None}, {'credit_id': '5894adc1c3a36840a700839d', 'department': 'Sound', 'gender': 0, 'id': 1749860, 'job': 'Sound Director', 'name': 'Babak Ardalan', 'profile_path': None}, {'credit_id': '5894ae1992514142800081fc', 'department': 'Costume & Make-Up', 'gender': 0, 'id': 1749861, 'job': 'Costume Design', 'name': 'Azadeh Ghavam', 'profile_path': None}, {'credit_id': '5894ae46c3a36840a70083f8', 'department': 'Costume & Make-Up', 'gender': 0, 'id': 1749862, 'job': 'Makeup Designer', 'name': 'Sahand Torabi', 'profile_path': None}, {'credit_id': '5894ae78c3a36840b1008369', 'department': 'Sound', 'gender': 0, 'id': 1749863, 'job': 'Songs', 'name': 'Homayoun Shajarian', 'profile_path': None}]                                                                                                                                                                                                                                                                                                                                                                                                                                                                                                                                                                                                                                                                                                                                                                                                                                                                                                                                                                                                                                                                                                                                                                                                                                                                                                                                                                                                                                                                                                                                                                                                                                                                                                                                                                                                                                                                                                                                                                                                                                                                                                                                                                                                                         1\n",
       "[{'credit_id': '52fe4af1c3a36847f81e9b15', 'department': 'Directing', 'gender': 0, 'id': 1051381, 'job': 'Director', 'name': 'Lav Diaz', 'profile_path': '/lWZ6mJCrPga6Jis1gbJYcpWpBZo.jpg'}, {'credit_id': '52fe4af1c3a36847f81e9b1b', 'department': 'Writing', 'gender': 0, 'id': 1051381, 'job': 'Writer', 'name': 'Lav Diaz', 'profile_path': '/lWZ6mJCrPga6Jis1gbJYcpWpBZo.jpg'}, {'credit_id': '5862a509c3a36852d2000097', 'department': 'Art', 'gender': 0, 'id': 1728582, 'job': 'Production Design', 'name': 'Dante Perez', 'profile_path': None}, {'credit_id': '5862a51e9251412b870000a4', 'department': 'Sound', 'gender': 0, 'id': 1051381, 'job': 'Music', 'name': 'Lav Diaz', 'profile_path': '/lWZ6mJCrPga6Jis1gbJYcpWpBZo.jpg'}, {'credit_id': '5862a52f9251412b870000b3', 'department': 'Editing', 'gender': 0, 'id': 1051381, 'job': 'Editor', 'name': 'Lav Diaz', 'profile_path': '/lWZ6mJCrPga6Jis1gbJYcpWpBZo.jpg'}, {'credit_id': '5862a53a9251412b8a0000b7', 'department': 'Crew', 'gender': 0, 'id': 1051381, 'job': 'Cinematography', 'name': 'Lav Diaz', 'profile_path': '/lWZ6mJCrPga6Jis1gbJYcpWpBZo.jpg'}]                                                                                                                                                                                                                                                                                                                                                                                                                                                                                                                                                                                                                                                                                                                                                                                                                                                                                                                                                                                                                                                                                                                                                                                                                                                                                                                                                                                                                                                                                                                                                                                                                                                                                                                                                                                                                                                                                                                                                                                                                                                                                                                                                                                                                                                                                                                                                                                                                                                                                                                                                                                                                                                       1\n",
       "[{'credit_id': '52fe4776c3a368484e0c8387', 'department': 'Directing', 'gender': 2, 'id': 67753, 'job': 'Director', 'name': 'Mark L. Lester', 'profile_path': None}, {'credit_id': '52fe4776c3a368484e0c838d', 'department': 'Writing', 'gender': 2, 'id': 19713, 'job': 'Screenplay', 'name': 'C. Courtney Joyner', 'profile_path': None}, {'credit_id': '52fe4776c3a368484e0c8393', 'department': 'Writing', 'gender': 2, 'id': 549355, 'job': 'Screenplay', 'name': 'Jeffrey Goldenberg', 'profile_path': '/cX9qmOSujqnjIqDVS1jlNSpWLHx.jpg'}, {'credit_id': '52fe4776c3a368484e0c8399', 'department': 'Sound', 'gender': 0, 'id': 549356, 'job': 'Original Music Composer', 'name': 'Richard McHugh', 'profile_path': None}, {'credit_id': '52fe4776c3a368484e0c839f', 'department': 'Camera', 'gender': 2, 'id': 58818, 'job': 'Director of Photography', 'name': 'João Fernandes', 'profile_path': None}]                                                                                                                                                                                                                                                                                                                                                                                                                                                                                                                                                                                                                                                                                                                                                                                                                                                                                                                                                                                                                                                                                                                                                                                                                                                                                                                                                                                                                                                                                                                                                                                                                                                                                                                                                                                                                                                                                                                                                                                                                                                                                                                                                                                                                                                                                                                                                                                                                                                                                                                                                                                                                                                                                                                                                                                                                                                                                 1\n",
       "[{'credit_id': '533bccebc3a36844cf0011a7', 'department': 'Directing', 'gender': 0, 'id': 1085341, 'job': 'Director', 'name': 'Yakov Protazanov', 'profile_path': '/yyjbGdCs2ZN6IlZNCfmBWyuRDlt.jpg'}, {'credit_id': '58ebbc26925141281908aa0a', 'department': 'Production', 'gender': 2, 'id': 1195656, 'job': 'Producer', 'name': 'Joseph N. Ermolieff', 'profile_path': None}]                                                                                                                                                                                                                                                                                                                                                                                                                                                                                                                                                                                                                                                                                                                                                                                                                                                                                                                                                                                                                                                                                                                                                                                                                                                                                                                                                                                                                                                                                                                                                                                                                                                                                                                                                                                                                                                                                                                                                                                                                                                                                                                                                                                                                                                                                                                                                                                                                                                                                                                                                                                                                                                                                                                                                                                                                                                                                                                                                                                                                                                                                                                                                                                                                                                                                                                                                                                                               1\n",
       "[{'credit_id': '52fe46bdc3a36847f810f797', 'department': 'Writing', 'gender': 2, 'id': 2075, 'job': 'Screenplay', 'name': 'David Loughery', 'profile_path': None}, {'credit_id': '52fe46bdc3a36847f810f791', 'department': 'Writing', 'gender': 2, 'id': 7775, 'job': 'Screenplay', 'name': 'Stephen Sommers', 'profile_path': '/50bI0PixdzrD5Mdygl4wrpxHCiH.jpg'}, {'credit_id': '52fe46bdc3a36847f810f76d', 'department': 'Directing', 'gender': 2, 'id': 18357, 'job': 'Director', 'name': 'Peter Hewitt', 'profile_path': '/wP8EyttEB2xca7udNERQb07eAda.jpg'}, {'credit_id': '52fe46bdc3a36847f810f78b', 'department': 'Writing', 'gender': 2, 'id': 72225, 'job': 'Novel', 'name': 'Mark Twain', 'profile_path': '/7EBjfNQEjJvoJAlar3uUm2pueog.jpg'}]                                                                                                                                                                                                                                                                                                                                                                                                                                                                                                                                                                                                                                                                                                                                                                                                                                                                                                                                                                                                                                                                                                                                                                                                                                                                                                                                                                                                                                                                                                                                                                                                                                                                                                                                                                                                                                                                                                                                                                                                                                                                                                                                                                                                                                                                                                                                                                                                                                                                                                                                                                                                                                                                                                                                                                                                                                                                                                                                                                                                                                     1\n",
       "Name: count, Length: 44669, dtype: int64"
      ]
     },
     "execution_count": 59,
     "metadata": {},
     "output_type": "execute_result"
    }
   ],
   "source": [
    "credits['crew'].value_counts()"
   ]
  },
  {
   "cell_type": "code",
   "execution_count": 60,
   "metadata": {},
   "outputs": [],
   "source": [
    "def desanidar_crew(row):\n",
    "    if pd.isna(row):\n",
    "        return None,None,None,None,None,None,None\n",
    "    else:\n",
    "        try:\n",
    "            if pd.isna(row):\n",
    "                return None,None,None,None,None,None,None\n",
    "            crew_list = eval(row)\n",
    "            crew_names= [crew['name'] for crew in crew_list]\n",
    "            crew_department=[crew['department'] for crew in crew_list]\n",
    "            crew_ids=[crew['id'] for crew in crew_list]\n",
    "            crew_genders=[crew['gender'] for crew in crew_list]\n",
    "            crew_jobs=[crew['job'] for crew in crew_list]\n",
    "            crew_profile_path=[crew['profile_path'] for crew in crew_list]\n",
    "            crew_credit_ids=[crew['credit_id'] for crew in crew_list]\n",
    "            return crew_names,crew_department,crew_ids,crew_genders,crew_jobs,crew_profile_path,crew_credit_ids\n",
    "        except Exception as e:\n",
    "            print(f'Error en la fila_{row}. Detalle:{e}')\n",
    "            return None,None,None,None,None,None,None\n",
    "        \n",
    "desanidados_crew = credits['crew'].apply(lambda row: pd.Series(desanidar_crew(row)))\n",
    "\n",
    "desanidados_crew.columns = ['crew_names','crew_department','crew_ids','crew_genders','crew_jobs','crew_profile_path','crew_credit_ids']"
   ]
  },
  {
   "cell_type": "code",
   "execution_count": 61,
   "metadata": {},
   "outputs": [],
   "source": [
    "credits = pd.concat([credits,desanidados_crew],axis=1)\n",
    "\n",
    "credits.drop(columns=['crew'],inplace=True)"
   ]
  },
  {
   "cell_type": "code",
   "execution_count": 62,
   "metadata": {},
   "outputs": [
    {
     "data": {
      "text/plain": [
       "Index(['id', 'cast_names', 'cast_characters', 'cast_ids', 'cast_genders',\n",
       "       'cast_orders', 'cast_profile_paths', 'cast_credit_ids', 'crew_names',\n",
       "       'crew_department', 'crew_ids', 'crew_genders', 'crew_jobs',\n",
       "       'crew_profile_path', 'crew_credit_ids'],\n",
       "      dtype='object')"
      ]
     },
     "execution_count": 62,
     "metadata": {},
     "output_type": "execute_result"
    }
   ],
   "source": [
    "credits.columns"
   ]
  },
  {
   "cell_type": "markdown",
   "metadata": {},
   "source": [
    "Prueba con crew"
   ]
  },
  {
   "cell_type": "code",
   "execution_count": 63,
   "metadata": {},
   "outputs": [],
   "source": [
    "columns_to_drop = [\n",
    "    'cast_profile_paths',\n",
    "    'crew_profile_path',\n",
    "    'crew_ids',\n",
    "    'crew_genders',\n",
    "    'crew_credit_ids'\n",
    "]\n",
    "\n",
    "# Eliminar las columnas del DataFrame\n",
    "credits = credits.drop(columns=columns_to_drop)\n",
    "\n",
    "\n"
   ]
  },
  {
   "cell_type": "code",
   "execution_count": 64,
   "metadata": {},
   "outputs": [
    {
     "data": {
      "text/plain": [
       "Index(['id', 'cast_names', 'cast_characters', 'cast_ids', 'cast_genders',\n",
       "       'cast_orders', 'cast_credit_ids', 'crew_names', 'crew_department',\n",
       "       'crew_jobs'],\n",
       "      dtype='object')"
      ]
     },
     "execution_count": 64,
     "metadata": {},
     "output_type": "execute_result"
    }
   ],
   "source": [
    "credits.columns"
   ]
  },
  {
   "cell_type": "markdown",
   "metadata": {},
   "source": [
    "## Union de los datasets"
   ]
  },
  {
   "cell_type": "code",
   "execution_count": 65,
   "metadata": {},
   "outputs": [],
   "source": [
    "data = pd.merge(movies,credits,left_on='id',right_on='id',how='left')"
   ]
  },
  {
   "cell_type": "code",
   "execution_count": 66,
   "metadata": {},
   "outputs": [
    {
     "data": {
      "text/plain": [
       "Index(['budget', 'id', 'original_language', 'overview', 'popularity',\n",
       "       'release_date', 'revenue', 'runtime', 'status', 'tagline', 'title',\n",
       "       'vote_average', 'vote_count', 'return', 'release_year', 'release_month',\n",
       "       'month_name_es', 'belongs_to_collection_id',\n",
       "       'belongs_to_collection_name', 'genre_id', 'genre_name', 'company_names',\n",
       "       'company_ids', 'country_names', 'country_codes', 'language_names',\n",
       "       'launguage_codes', 'cast_names', 'cast_characters', 'cast_ids',\n",
       "       'cast_genders', 'cast_orders', 'cast_credit_ids', 'crew_names',\n",
       "       'crew_department', 'crew_jobs'],\n",
       "      dtype='object')"
      ]
     },
     "execution_count": 66,
     "metadata": {},
     "output_type": "execute_result"
    }
   ],
   "source": [
    "data.columns"
   ]
  },
  {
   "cell_type": "markdown",
   "metadata": {},
   "source": [
    "Nulos y Nan"
   ]
  },
  {
   "cell_type": "code",
   "execution_count": 67,
   "metadata": {},
   "outputs": [
    {
     "name": "stdout",
     "output_type": "stream",
     "text": [
      "Columnas con valores nulos y la cantidad de nulos en cada una:\n",
      "original_language                11\n",
      "overview                        954\n",
      "release_date                     84\n",
      "runtime                         257\n",
      "status                           81\n",
      "tagline                       25097\n",
      "release_month                    84\n",
      "month_name_es                    84\n",
      "belongs_to_collection_id      41037\n",
      "belongs_to_collection_name    41037\n",
      "cast_names                        1\n",
      "cast_characters                   1\n",
      "cast_ids                          1\n",
      "cast_genders                      1\n",
      "cast_orders                       1\n",
      "cast_credit_ids                   1\n",
      "crew_names                        1\n",
      "crew_department                   1\n",
      "crew_jobs                         1\n",
      "dtype: int64\n"
     ]
    }
   ],
   "source": [
    "# Verificar qué columnas tienen valores nulos\n",
    "nulos = data.isnull().sum()\n",
    "\n",
    "# Filtrar las columnas que tienen al menos un valor nulo\n",
    "columnas_con_nulos = nulos[nulos > 0]\n",
    "\n",
    "# Mostrar el resumen de columnas con valores nulos\n",
    "print(\"Columnas con valores nulos y la cantidad de nulos en cada una:\")\n",
    "print(columnas_con_nulos)"
   ]
  },
  {
   "cell_type": "code",
   "execution_count": 68,
   "metadata": {},
   "outputs": [],
   "source": [
    "data = data.dropna(subset=['release_date'])"
   ]
  },
  {
   "cell_type": "code",
   "execution_count": 69,
   "metadata": {},
   "outputs": [
    {
     "name": "stdout",
     "output_type": "stream",
     "text": [
      "<class 'pandas.core.frame.DataFrame'>\n",
      "Index: 45452 entries, 0 to 45535\n",
      "Data columns (total 36 columns):\n",
      " #   Column                      Non-Null Count  Dtype         \n",
      "---  ------                      --------------  -----         \n",
      " 0   budget                      45452 non-null  float64       \n",
      " 1   id                          45452 non-null  int64         \n",
      " 2   original_language           45441 non-null  object        \n",
      " 3   overview                    44511 non-null  object        \n",
      " 4   popularity                  45452 non-null  float64       \n",
      " 5   release_date                45452 non-null  datetime64[ns]\n",
      " 6   revenue                     45452 non-null  float64       \n",
      " 7   runtime                     45206 non-null  float64       \n",
      " 8   status                      45372 non-null  object        \n",
      " 9   tagline                     20425 non-null  object        \n",
      " 10  title                       45452 non-null  object        \n",
      " 11  vote_average                45452 non-null  float64       \n",
      " 12  vote_count                  45452 non-null  float64       \n",
      " 13  return                      45452 non-null  float64       \n",
      " 14  release_year                45452 non-null  int64         \n",
      " 15  release_month               45452 non-null  float64       \n",
      " 16  month_name_es               45452 non-null  object        \n",
      " 17  belongs_to_collection_id    4497 non-null   float64       \n",
      " 18  belongs_to_collection_name  4497 non-null   object        \n",
      " 19  genre_id                    45452 non-null  object        \n",
      " 20  genre_name                  45452 non-null  object        \n",
      " 21  company_names               45452 non-null  object        \n",
      " 22  company_ids                 45452 non-null  object        \n",
      " 23  country_names               45452 non-null  object        \n",
      " 24  country_codes               45452 non-null  object        \n",
      " 25  language_names              45452 non-null  object        \n",
      " 26  launguage_codes             45452 non-null  object        \n",
      " 27  cast_names                  45451 non-null  object        \n",
      " 28  cast_characters             45451 non-null  object        \n",
      " 29  cast_ids                    45451 non-null  object        \n",
      " 30  cast_genders                45451 non-null  object        \n",
      " 31  cast_orders                 45451 non-null  object        \n",
      " 32  cast_credit_ids             45451 non-null  object        \n",
      " 33  crew_names                  45451 non-null  object        \n",
      " 34  crew_department             45451 non-null  object        \n",
      " 35  crew_jobs                   45451 non-null  object        \n",
      "dtypes: datetime64[ns](1), float64(9), int64(2), object(24)\n",
      "memory usage: 12.8+ MB\n"
     ]
    }
   ],
   "source": [
    "data.info()"
   ]
  },
  {
   "cell_type": "markdown",
   "metadata": {},
   "source": [
    "## Exportacion del dataframe"
   ]
  },
  {
   "cell_type": "markdown",
   "metadata": {},
   "source": [
    "Lo vamos a exportar en un archivo parquet. La finalidad de este tipo de archivo es para que no haya problemas a la hora de levantar el programa en Render"
   ]
  },
  {
   "cell_type": "code",
   "execution_count": 70,
   "metadata": {},
   "outputs": [
    {
     "name": "stdout",
     "output_type": "stream",
     "text": [
      "Defaulting to user installation because normal site-packages is not writeable\n",
      "Requirement already satisfied: pyarrow in c:\\users\\user\\appdata\\local\\packages\\pythonsoftwarefoundation.python.3.12_qbz5n2kfra8p0\\localcache\\local-packages\\python312\\site-packages (17.0.0)\n",
      "Requirement already satisfied: numpy>=1.16.6 in c:\\users\\user\\appdata\\local\\packages\\pythonsoftwarefoundation.python.3.12_qbz5n2kfra8p0\\localcache\\local-packages\\python312\\site-packages (from pyarrow) (2.0.0)\n",
      "Note: you may need to restart the kernel to use updated packages.\n"
     ]
    },
    {
     "name": "stderr",
     "output_type": "stream",
     "text": [
      "\n",
      "[notice] A new release of pip is available: 24.1.1 -> 24.2\n",
      "[notice] To update, run: C:\\Users\\User\\AppData\\Local\\Microsoft\\WindowsApps\\PythonSoftwareFoundation.Python.3.12_qbz5n2kfra8p0\\python.exe -m pip install --upgrade pip\n"
     ]
    }
   ],
   "source": [
    "pip install pyarrow"
   ]
  },
  {
   "cell_type": "code",
   "execution_count": 71,
   "metadata": {},
   "outputs": [],
   "source": [
    "import pyarrow as pa\n",
    "import pyarrow.parquet as pq"
   ]
  },
  {
   "cell_type": "code",
   "execution_count": 72,
   "metadata": {},
   "outputs": [],
   "source": [
    "tabla = pa.Table.from_pandas(data)\n",
    "pq.write_table(tabla,'data.parquet')"
   ]
  }
 ],
 "metadata": {
  "kernelspec": {
   "display_name": "Python 3",
   "language": "python",
   "name": "python3"
  },
  "language_info": {
   "codemirror_mode": {
    "name": "ipython",
    "version": 3
   },
   "file_extension": ".py",
   "mimetype": "text/x-python",
   "name": "python",
   "nbconvert_exporter": "python",
   "pygments_lexer": "ipython3",
   "version": "3.12.6"
  }
 },
 "nbformat": 4,
 "nbformat_minor": 2
}
