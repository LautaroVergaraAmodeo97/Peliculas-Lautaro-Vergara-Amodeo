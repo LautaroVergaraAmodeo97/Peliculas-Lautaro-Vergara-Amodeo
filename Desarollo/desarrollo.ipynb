{
 "cells": [
  {
   "cell_type": "markdown",
   "metadata": {},
   "source": [
    "## Desarrollo de API\n"
   ]
  },
  {
   "cell_type": "markdown",
   "metadata": {},
   "source": [
    "En este archivos vamos a desarrollar nuestras funciones que luego las implementaremos en nuestro main.py "
   ]
  },
  {
   "cell_type": "code",
   "execution_count": 49,
   "metadata": {},
   "outputs": [
    {
     "name": "stdout",
     "output_type": "stream",
     "text": [
      "<class 'pandas.core.frame.DataFrame'>\n",
      "Index: 45452 entries, 0 to 45535\n",
      "Data columns (total 36 columns):\n",
      " #   Column                      Non-Null Count  Dtype         \n",
      "---  ------                      --------------  -----         \n",
      " 0   budget                      45452 non-null  float64       \n",
      " 1   id                          45452 non-null  int64         \n",
      " 2   original_language           45441 non-null  object        \n",
      " 3   overview                    44511 non-null  object        \n",
      " 4   popularity                  45452 non-null  float64       \n",
      " 5   release_date                45452 non-null  datetime64[ns]\n",
      " 6   revenue                     45452 non-null  float64       \n",
      " 7   runtime                     45206 non-null  float64       \n",
      " 8   status                      45372 non-null  object        \n",
      " 9   tagline                     20425 non-null  object        \n",
      " 10  title                       45452 non-null  object        \n",
      " 11  vote_average                45452 non-null  float64       \n",
      " 12  vote_count                  45452 non-null  float64       \n",
      " 13  return                      45452 non-null  float64       \n",
      " 14  release_year                45452 non-null  int64         \n",
      " 15  release_month               45452 non-null  float64       \n",
      " 16  month_name_es               45452 non-null  object        \n",
      " 17  belongs_to_collection_id    4497 non-null   float64       \n",
      " 18  belongs_to_collection_name  4497 non-null   object        \n",
      " 19  genre_id                    45452 non-null  object        \n",
      " 20  genre_name                  45452 non-null  object        \n",
      " 21  company_names               45452 non-null  object        \n",
      " 22  company_ids                 45452 non-null  object        \n",
      " 23  country_names               45452 non-null  object        \n",
      " 24  country_codes               45452 non-null  object        \n",
      " 25  language_names              45452 non-null  object        \n",
      " 26  launguage_codes             45452 non-null  object        \n",
      " 27  cast_names                  45451 non-null  object        \n",
      " 28  cast_characters             45451 non-null  object        \n",
      " 29  cast_ids                    45451 non-null  object        \n",
      " 30  cast_genders                45451 non-null  object        \n",
      " 31  cast_orders                 45451 non-null  object        \n",
      " 32  cast_credit_ids             45451 non-null  object        \n",
      " 33  crew_names                  45451 non-null  object        \n",
      " 34  crew_department             45451 non-null  object        \n",
      " 35  crew_jobs                   45451 non-null  object        \n",
      "dtypes: datetime64[ns](1), float64(9), int64(2), object(24)\n",
      "memory usage: 12.8+ MB\n"
     ]
    }
   ],
   "source": [
    "import pandas as pd\n",
    "\n",
    "data = pd.read_parquet('C:\\\\Users\\\\User\\\\OneDrive\\\\Escritorio\\\\Proyecto Final Individual I\\\\data.parquet')\n",
    "\n",
    "data.info()"
   ]
  },
  {
   "cell_type": "code",
   "execution_count": 48,
   "metadata": {},
   "outputs": [
    {
     "data": {
      "text/plain": [
       "0        [John Lasseter, Joss Whedon, Andrew Stanton, J...\n",
       "1        [Larry J. Franco, Jonathan Hensleigh, James Ho...\n",
       "2        [Howard Deutch, Mark Steven Johnson, Mark Stev...\n",
       "3        [Forest Whitaker, Ronald Bass, Ronald Bass, Ez...\n",
       "4        [Alan Silvestri, Elliot Davis, Nancy Meyers, N...\n",
       "                               ...                        \n",
       "45530    [John Irvin, Sam Resnick, John McGrath, Sam Re...\n",
       "45532    [Lav Diaz, Lav Diaz, Dante Perez, Lav Diaz, La...\n",
       "45533    [Mark L. Lester, C. Courtney Joyner, Jeffrey G...\n",
       "45534              [Yakov Protazanov, Joseph N. Ermolieff]\n",
       "45535                                      [Daisy Asquith]\n",
       "Name: crew_names, Length: 45452, dtype: object"
      ]
     },
     "execution_count": 48,
     "metadata": {},
     "output_type": "execute_result"
    }
   ],
   "source": [
    "data['crew_names']"
   ]
  },
  {
   "cell_type": "code",
   "execution_count": 43,
   "metadata": {},
   "outputs": [
    {
     "data": {
      "text/plain": [
       "0        [Director, Screenplay, Screenplay, Screenplay,...\n",
       "1        [Executive Producer, Screenplay, Original Musi...\n",
       "2          [Director, Characters, Writer, Sound Recordist]\n",
       "3        [Director, Screenplay, Producer, Producer, Pro...\n",
       "4        [Original Music Composer, Director of Photogra...\n",
       "                               ...                        \n",
       "45530    [Director, Writer, Writer, Story, Producer, Mu...\n",
       "45532    [Director, Writer, Production Design, Music, E...\n",
       "45533    [Director, Screenplay, Screenplay, Original Mu...\n",
       "45534                                 [Director, Producer]\n",
       "45535                                           [Director]\n",
       "Name: crew_jobs, Length: 45452, dtype: object"
      ]
     },
     "execution_count": 43,
     "metadata": {},
     "output_type": "execute_result"
    }
   ],
   "source": [
    "data['crew_jobs']"
   ]
  },
  {
   "cell_type": "markdown",
   "metadata": {},
   "source": [
    "def cantidad_filmaciones_mes( Mes ): Se ingresa un mes en idioma Español. Debe devolver la cantidad de películas que fueron estrenadas en el mes consultado en la totalidad del dataset.\n",
    "                    Ejemplo de retorno: X cantidad de películas fueron estrenadas en el mes de X"
   ]
  },
  {
   "cell_type": "code",
   "execution_count": 38,
   "metadata": {},
   "outputs": [
    {
     "name": "stdout",
     "output_type": "stream",
     "text": [
      "La cantidad de películas que se han realizado en el mes que ha seleccionado\n",
      "3344\n"
     ]
    }
   ],
   "source": [
    "def cantidad_filmaciones_mes(mes:str):\n",
    "    \n",
    "    # Uso el método capitalize() para devolver una copia de la cadena con la primera letra en mayúsculas\n",
    "    mes_capitalizado = mes.capitalize()\n",
    "    \n",
    "    mes_pelicula = data[data['month_name_es']== mes_capitalizado]\n",
    "    \n",
    "    cantidad = mes_pelicula.shape[0]\n",
    "    \n",
    "    return cantidad\n",
    "\n",
    "\n",
    "entrada = input('Ingrese el mes que desee')\n",
    "\n",
    "print('La cantidad de películas que se han realizado en el mes que ha seleccionado')\n",
    "print(cantidad_filmaciones_mes(entrada))\n",
    "    "
   ]
  },
  {
   "cell_type": "markdown",
   "metadata": {},
   "source": [
    "def cantidad_filmaciones_dia( Dia ): Se ingresa un día en idioma Español. Debe devolver la cantidad de películas que fueron estrenadas en día consultado en la totalidad del dataset.\n",
    "                    Ejemplo de retorno: X cantidad de películas fueron estrenadas en los días X"
   ]
  },
  {
   "cell_type": "code",
   "execution_count": 3,
   "metadata": {},
   "outputs": [
    {
     "data": {
      "text/plain": [
       "release_date\n",
       "2008-01-01    136\n",
       "2009-01-01    121\n",
       "2007-01-01    120\n",
       "2005-01-01    111\n",
       "2006-01-01    101\n",
       "             ... \n",
       "1973-07-22      1\n",
       "1921-04-26      1\n",
       "1995-04-30      1\n",
       "1995-07-18      1\n",
       "2017-07-18      1\n",
       "Name: count, Length: 17333, dtype: int64"
      ]
     },
     "execution_count": 3,
     "metadata": {},
     "output_type": "execute_result"
    }
   ],
   "source": [
    "data['release_date'].value_counts()"
   ]
  },
  {
   "cell_type": "markdown",
   "metadata": {},
   "source": [
    "Tengo una variable de tipo date y lo tengo que transformar a una variable de tipo string para esta función."
   ]
  },
  {
   "cell_type": "code",
   "execution_count": 4,
   "metadata": {},
   "outputs": [],
   "source": [
    "#Con esto extraemos los días de la semana que existen en nuestro dataset\n",
    "data['day_of_week'] = data['release_date'].dt.day_name()"
   ]
  },
  {
   "cell_type": "markdown",
   "metadata": {},
   "source": [
    "Instalamos Unicode ya que es un estándar de codificación de caracteres que permite a los programas de Python trabajar con todos los caracteres posibles, independientemente del idioma, programa o plataforma"
   ]
  },
  {
   "cell_type": "code",
   "execution_count": 5,
   "metadata": {},
   "outputs": [
    {
     "name": "stdout",
     "output_type": "stream",
     "text": [
      "Defaulting to user installation because normal site-packages is not writeable\n",
      "Requirement already satisfied: unidecode in c:\\users\\user\\appdata\\local\\packages\\pythonsoftwarefoundation.python.3.12_qbz5n2kfra8p0\\localcache\\local-packages\\python312\\site-packages (1.3.8)\n",
      "Note: you may need to restart the kernel to use updated packages.\n"
     ]
    },
    {
     "name": "stderr",
     "output_type": "stream",
     "text": [
      "\n",
      "[notice] A new release of pip is available: 24.1.1 -> 24.2\n",
      "[notice] To update, run: C:\\Users\\User\\AppData\\Local\\Microsoft\\WindowsApps\\PythonSoftwareFoundation.Python.3.12_qbz5n2kfra8p0\\python.exe -m pip install --upgrade pip\n"
     ]
    }
   ],
   "source": [
    "pip install unidecode"
   ]
  },
  {
   "cell_type": "code",
   "execution_count": 6,
   "metadata": {},
   "outputs": [],
   "source": [
    "\n",
    "from unidecode import unidecode\n",
    "\n",
    "#Transformamos los días al español mediante un diccionario\n",
    "\n",
    "transformar={'Monday':'Lunes',\n",
    "             'Tuesday':'Martes',\n",
    "             'Wednesday':'Miercoles',\n",
    "            'Thursday':'Jueves',\n",
    "            'Friday':'Viernes',\n",
    "            'Saturday':'Sabado',\n",
    "            'Sunday':'Domingo'\n",
    "}\n",
    "\n",
    "#Aqui aplicamos el diccionario mediante map()\n",
    "data['day_of_week_es'] = data['day_of_week'].map(transformar).apply(lambda x: unidecode(x.lower()))\n"
   ]
  },
  {
   "cell_type": "code",
   "execution_count": 7,
   "metadata": {},
   "outputs": [
    {
     "name": "stdout",
     "output_type": "stream",
     "text": [
      "4645 películas fueron estrenadas en el día martes\n"
     ]
    }
   ],
   "source": [
    "def cantidad_filmaciones_dia(dia: str):\n",
    "    # Normalizar la entrada del usuario\n",
    "    dia_normalizado = unidecode(dia).lower()\n",
    "    \n",
    "    # Filtrar por el día proporcionado\n",
    "    dia_pelicula = data[data['day_of_week_es'] == dia_normalizado]\n",
    "    cantidad = dia_pelicula.shape[0]\n",
    "    \n",
    "    if cantidad == 0:\n",
    "        return f\"No se encontraron películas estrenadas en el día {dia}\"\n",
    "    \n",
    "    return f\"{cantidad} películas fueron estrenadas en el día {dia}\"\n",
    "\n",
    "# Solicitar entrada del usuario\n",
    "dia_entrada = input(\"Ingrese el día de la semana: \")\n",
    "print(cantidad_filmaciones_dia(dia_entrada))\n"
   ]
  },
  {
   "cell_type": "markdown",
   "metadata": {},
   "source": [
    "def score_titulo( titulo_de_la_filmación ): Se ingresa el título de una filmación esperando como respuesta el título, el año de estreno y el score.\n",
    "                    Ejemplo de retorno: La película X fue estrenada en el año X con un score/popularidad de X"
   ]
  },
  {
   "cell_type": "code",
   "execution_count": 8,
   "metadata": {},
   "outputs": [],
   "source": [
    "#Aplanamos la columna title para que nosotros ingresemos sin ningun problema el titulo\n",
    "\n",
    "data['title_normalized'] = data['title'].apply(lambda x: unidecode(x.lower()))\n",
    "\n",
    "    "
   ]
  },
  {
   "cell_type": "code",
   "execution_count": 9,
   "metadata": {},
   "outputs": [
    {
     "name": "stdout",
     "output_type": "stream",
     "text": [
      "La pelicula Toy Story fue estrenada en el año 1995 y tiene un score/popularidad de 21.946943\n"
     ]
    }
   ],
   "source": [
    "def score_titulo(titulo_de_la_filmacion:str):\n",
    "    \n",
    "    titulo_normalized = unidecode(titulo_de_la_filmacion.lower())\n",
    "    \n",
    "    film = data[data['title_normalized'] == titulo_normalized]\n",
    "    \n",
    "    if film.empty:\n",
    "        return f'No se encontro la pelicula {titulo_normalized}' \n",
    "\n",
    "    titulo = film['title'].values[0]\n",
    "    anio = int(film['release_year'].values[0]) #Convertir a entero por las dudas\n",
    "    score=film['popularity'].values[0]\n",
    "    \n",
    "    return f'La pelicula {titulo} fue estrenada en el año {anio} y tiene un score/popularidad de {score}'\n",
    "\n",
    "entrada = input('Ingrese el titulo de la pelicula')\n",
    "print(score_titulo(entrada))"
   ]
  },
  {
   "cell_type": "markdown",
   "metadata": {},
   "source": [
    "def votos_titulo( titulo_de_la_filmación ): Se ingresa el título de una filmación esperando como respuesta el título, la cantidad de votos y el valor promedio de las votaciones. La misma variable deberá de contar con al menos 2000 valoraciones, caso contrario, debemos contar con un mensaje avisando que no cumple esta condición y que por ende, no se devuelve ningun valor.\n",
    "                    Ejemplo de retorno: La película X fue estrenada en el año X. La misma cuenta con un total de X valoraciones, con un promedio de X"
   ]
  },
  {
   "cell_type": "markdown",
   "metadata": {},
   "source": [
    "Ya no vamos a normalizaro porque es ya lo hicimos anteriormente"
   ]
  },
  {
   "cell_type": "code",
   "execution_count": 10,
   "metadata": {},
   "outputs": [
    {
     "name": "stdout",
     "output_type": "stream",
     "text": [
      "La pelicula Toy Story fue estrenada en el año 1995. La misma ceunta con un total de 5415 valoraciones,con un promedio de 7.7\n"
     ]
    }
   ],
   "source": [
    "def votos_titulo(titulo_de_la_filmacion:str):\n",
    "    titulo_normalized = unidecode(titulo_de_la_filmacion.lower())\n",
    "    \n",
    "    film = data[data['title_normalized'] == titulo_normalized]\n",
    "    \n",
    "    if film.empty:\n",
    "        return f'No se encontro la pelicula {titulo_normalized}' \n",
    "    \n",
    "    titulo = film['title'].values[0]\n",
    "    anio = int(film['release_year'].values[0]) #Convertir a entero por las dudas\n",
    "    vote= int(film['vote_count'].values[0]) #Convertir a entero por las dudas\n",
    "    average=film['vote_average'].values[0]\n",
    "    \n",
    "    if vote < 2000:\n",
    "        return f'La pelicula {titulo} no cumple con el minimo de votos para retornar valor'\n",
    "    \n",
    "    return f'La pelicula {titulo} fue estrenada en el año {anio}. La misma ceunta con un total de {vote} valoraciones,con un promedio de {average}'\n",
    "\n",
    "\n",
    "entrada = input('Ingrese el titulo de la pelicula')\n",
    "print(votos_titulo(entrada))"
   ]
  },
  {
   "cell_type": "markdown",
   "metadata": {},
   "source": [
    "def get_actor( nombre_actor ): Se ingresa el nombre de un actor que se encuentre dentro de un dataset debiendo devolver el éxito del mismo medido a través del retorno. Además, la cantidad de películas que en las que ha participado y el promedio de retorno. La definición no deberá considerar directores.\n",
    "                    Ejemplo de retorno: El actor X ha participado de X cantidad de filmaciones, el mismo ha conseguido un retorno de X con un promedio de X por filmación"
   ]
  },
  {
   "cell_type": "markdown",
   "metadata": {},
   "source": [
    "En el caso de esta función vamos a tener que normalizar la columna de actores. Esto se debe a que varios actores trabajan en una película y si no hacemos este trabajo de desanidación se nos puede complicar el arduo trabajo que estamos llevando a cabo."
   ]
  },
  {
   "cell_type": "markdown",
   "metadata": {},
   "source": [
    "Para este caso vamos a instalar la libreria Regex para trabajar con acentuaciones que nos podemos llegar a encontrar en los nombres y con Numpy para desanidar"
   ]
  },
  {
   "cell_type": "code",
   "execution_count": 11,
   "metadata": {},
   "outputs": [],
   "source": [
    "import re\n",
    "import numpy as np"
   ]
  },
  {
   "cell_type": "code",
   "execution_count": 12,
   "metadata": {},
   "outputs": [],
   "source": [
    "def normalizar(cast_data):\n",
    "    if isinstance(cast_data,np.ndarray):\n",
    "        names = [str(names).strip() for names in cast_data] # Va a recorrer nuestra lista y a cortar los espacios\n",
    "    elif isinstance(cast_data,str):\n",
    "        if ',' in cast_data:\n",
    "            names = cast_data.strip('[]').split(',') \n",
    "            names = [name.strip().strip(\"'\\\"\") for name in names] \n",
    "        # Lo que hacemos primero es dividir por comas. Luego eliminamos los corchetes por comas \n",
    "        # y finalmente eliminamos los espacios y comillas    \n",
    "        else:\n",
    "            names = re.findall(r\"'([^']*)'\", cast_data)    \n",
    "            #De no haber comas, se realiza este metodo.\n",
    "    else:\n",
    "        return []  \n",
    "    \n",
    "    \n",
    "    return [unidecode(name.lower()) for name in names if name]    \n",
    "\n",
    "data['cast_names_normalized'] = data['cast_names'].apply(normalizar)"
   ]
  },
  {
   "cell_type": "code",
   "execution_count": 13,
   "metadata": {},
   "outputs": [
    {
     "name": "stdout",
     "output_type": "stream",
     "text": [
      "El actor tim allen ha participado de 29 cantidad de filmaciones, el mismo ha conseguido un retorno de 50.20 con un promedio de 1.73 por filmacion\n"
     ]
    }
   ],
   "source": [
    "def get_actor(nombre_actor:str):\n",
    "    nombre_actor_normalized = unidecode(nombre_actor.lower())\n",
    "    \n",
    "    film = data[data['cast_names_normalized'].apply(lambda actors: nombre_actor_normalized in actors)]\n",
    "    \n",
    "    if film.empty:\n",
    "        return f'No se encontró información para {nombre_actor_normalized}' \n",
    "    \n",
    "    cantidad = film.shape[0]\n",
    "    retorno =  film['return'].sum()\n",
    "    average=retorno/cantidad\n",
    "    \n",
    "\n",
    "    return f'El actor {nombre_actor} ha participado de {cantidad} cantidad de filmaciones, el mismo ha conseguido un retorno de {retorno:.2f} con un promedio de {average:.2f} por filmacion'\n",
    "\n",
    "\n",
    "entrada = input('Ingrese el titulo de la pelicula')\n",
    "print(get_actor(entrada))    "
   ]
  },
  {
   "cell_type": "markdown",
   "metadata": {},
   "source": [
    "def get_director( nombre_director ): Se ingresa el nombre de un director que se encuentre dentro de un dataset debiendo devolver el éxito del mismo medido a través del retorno. Además, deberá devolver el nombre de cada película con la fecha de lanzamiento, retorno individual, costo y ganancia de la misma."
   ]
  },
  {
   "cell_type": "markdown",
   "metadata": {},
   "source": [
    "normalize_list(lst): Esta función verifica si lst no es None. Si no lo es, itera sobre la lista y normaliza cada elemento. Si lst es None, devuelve una lista vacía.\n",
    "data['crew_name_normalized'] y data['crew_jobs_normalized']: Usan la función normalize_list para aplicar la normalización a cada fila en las columnas crew_names y crew_jobs."
   ]
  },
  {
   "cell_type": "code",
   "execution_count": 52,
   "metadata": {},
   "outputs": [
    {
     "name": "stdout",
     "output_type": "stream",
     "text": [
      "                                crew_name_normalized  \\\n",
      "0  [john lasseter, joss whedon, andrew stanton, j...   \n",
      "1  [larry j. franco, jonathan hensleigh, james ho...   \n",
      "2  [howard deutch, mark steven johnson, mark stev...   \n",
      "3  [forest whitaker, ronald bass, ronald bass, ez...   \n",
      "4  [alan silvestri, elliot davis, nancy meyers, n...   \n",
      "\n",
      "                                crew_jobs_normalized  \n",
      "0  [director, screenplay, screenplay, screenplay,...  \n",
      "1  [executive producer, screenplay, original musi...  \n",
      "2    [director, characters, writer, sound recordist]  \n",
      "3  [director, screenplay, producer, producer, pro...  \n",
      "4  [original music composer, director of photogra...  \n"
     ]
    }
   ],
   "source": [
    "import pandas as pd\n",
    "from unidecode import unidecode\n",
    "\n",
    "\n",
    "# Función para normalizar listas\n",
    "def normalize_list(lst):\n",
    "    if lst is not None:\n",
    "        return [unidecode(name.lower()) for name in lst if isinstance(name, str)]\n",
    "    return []\n",
    "\n",
    "# Normalizar cada nombre y rol en las listas dentro de las columnas\n",
    "data['crew_name_normalized'] = data['crew_names'].apply(normalize_list)\n",
    "data['crew_jobs_normalized'] = data['crew_jobs'].apply(normalize_list)\n",
    "\n",
    "print(data[['crew_name_normalized', 'crew_jobs_normalized']].head())\n"
   ]
  },
  {
   "cell_type": "code",
   "execution_count": 54,
   "metadata": {},
   "outputs": [
    {
     "name": "stdout",
     "output_type": "stream",
     "text": [
      "Director john lasseter\n",
      "Película: Toy Story, Fecha de lanzamiento: 1995-10-30, Retorno individual: 373554033, Costo: 30000000, Ganancia: 343554033\n",
      "Película: Beauty and the Beast, Fecha de lanzamiento: 1991-11-13, Retorno individual: 377350553, Costo: 25000000, Ganancia: 352350553\n",
      "Película: A Bug's Life, Fecha de lanzamiento: 1998-11-25, Retorno individual: 363258859, Costo: 120000000, Ganancia: 243258859\n",
      "Película: Toy Story 2, Fecha de lanzamiento: 1999-10-30, Retorno individual: 497366869, Costo: 90000000, Ganancia: 407366869\n",
      "Película: Monsters, Inc., Fecha de lanzamiento: 2001-11-01, Retorno individual: 562816256, Costo: 115000000, Ganancia: 447816256\n",
      "Película: Finding Nemo, Fecha de lanzamiento: 2003-05-30, Retorno individual: 940335536, Costo: 94000000, Ganancia: 846335536\n",
      "Película: The Incredibles, Fecha de lanzamiento: 2004-11-05, Retorno individual: 631442092, Costo: 92000000, Ganancia: 539442092\n",
      "Película: Howl's Moving Castle, Fecha de lanzamiento: 2004-11-19, Retorno individual: 234710455, Costo: 24000000, Ganancia: 210710455\n",
      "Película: Luxo Jr., Fecha de lanzamiento: 1986-08-17, Retorno individual: 0, Costo: 0, Ganancia: 0\n",
      "Película: Cars, Fecha de lanzamiento: 2006-06-08, Retorno individual: 461983149, Costo: 120000000, Ganancia: 341983149\n",
      "Película: Ratatouille, Fecha de lanzamiento: 2007-06-22, Retorno individual: 623722818, Costo: 150000000, Ganancia: 473722818\n",
      "Película: WALL·E, Fecha de lanzamiento: 2008-06-22, Retorno individual: 521311860, Costo: 180000000, Ganancia: 341311860\n",
      "Película: Bolt, Fecha de lanzamiento: 2008-11-21, Retorno individual: 309979994, Costo: 150000000, Ganancia: 159979994\n",
      "Película: Up, Fecha de lanzamiento: 2009-05-13, Retorno individual: 735099082, Costo: 175000000, Ganancia: 560099082\n",
      "Película: Partly Cloudy, Fecha de lanzamiento: 2009-05-28, Retorno individual: 0, Costo: 0, Ganancia: 0\n",
      "Película: The Princess and the Frog, Fecha de lanzamiento: 2009-12-08, Retorno individual: 267045765, Costo: 105000000, Ganancia: 162045765\n",
      "Película: Toy Story 3, Fecha de lanzamiento: 2010-06-16, Retorno individual: 1066969703, Costo: 200000000, Ganancia: 866969703\n",
      "Película: Tangled, Fecha de lanzamiento: 2010-11-24, Retorno individual: 591794936, Costo: 260000000, Ganancia: 331794936\n",
      "Película: Cars 2, Fecha de lanzamiento: 2011-06-11, Retorno individual: 559852396, Costo: 200000000, Ganancia: 359852396\n",
      "Película: John Carter, Fecha de lanzamiento: 2012-03-07, Retorno individual: 284139100, Costo: 260000000, Ganancia: 24139100\n",
      "Película: The Ballad of Nessie, Fecha de lanzamiento: 2011-04-13, Retorno individual: 0, Costo: 0, Ganancia: 0\n",
      "Película: Presto, Fecha de lanzamiento: 2008-06-18, Retorno individual: 0, Costo: 0, Ganancia: 0\n",
      "Película: Jack-Jack Attack, Fecha de lanzamiento: 2004-12-31, Retorno individual: 0, Costo: 0, Ganancia: 0\n",
      "Película: One Man Band, Fecha de lanzamiento: 2005-06-21, Retorno individual: 0, Costo: 0, Ganancia: 0\n",
      "Película: Tin Toy, Fecha de lanzamiento: 1988-08-01, Retorno individual: 0, Costo: 0, Ganancia: 0\n",
      "Película: Red's Dream, Fecha de lanzamiento: 1987-08-17, Retorno individual: 0, Costo: 0, Ganancia: 0\n",
      "Película: Geri's Game, Fecha de lanzamiento: 1997-11-24, Retorno individual: 0, Costo: 0, Ganancia: 0\n",
      "Película: Knick Knack, Fecha de lanzamiento: 1989-01-01, Retorno individual: 0, Costo: 0, Ganancia: 0\n",
      "Película: Wreck-It Ralph, Fecha de lanzamiento: 2012-11-01, Retorno individual: 471222889, Costo: 165000000, Ganancia: 306222889\n",
      "Película: Paperman, Fecha de lanzamiento: 2012-11-02, Retorno individual: 0, Costo: 0, Ganancia: 0\n",
      "Película: Monsters University, Fecha de lanzamiento: 2013-06-20, Retorno individual: 743559607, Costo: 200000000, Ganancia: 543559607\n",
      "Película: Toy Story of Terror!, Fecha de lanzamiento: 2013-10-15, Retorno individual: 0, Costo: 0, Ganancia: 0\n",
      "Película: Frozen, Fecha de lanzamiento: 2013-11-27, Retorno individual: 1274219009, Costo: 150000000, Ganancia: 1124219009\n",
      "Película: La luna, Fecha de lanzamiento: 2011-01-01, Retorno individual: 0, Costo: 0, Ganancia: 0\n",
      "Película: Mater and the Ghostlight, Fecha de lanzamiento: 2006-07-27, Retorno individual: 0, Costo: 0, Ganancia: 0\n",
      "Película: Tangled Ever After, Fecha de lanzamiento: 2012-01-13, Retorno individual: 0, Costo: 0, Ganancia: 0\n",
      "Película: Planes: Fire & Rescue, Fecha de lanzamiento: 2014-07-17, Retorno individual: 151165787, Costo: 50000000, Ganancia: 101165787\n",
      "Película: Big Hero 6, Fecha de lanzamiento: 2014-10-24, Retorno individual: 652105443, Costo: 165000000, Ganancia: 487105443\n",
      "Película: Small Fry, Fecha de lanzamiento: 2011-11-23, Retorno individual: 0, Costo: 0, Ganancia: 0\n",
      "Película: Secret of the Wings, Fecha de lanzamiento: 2012-08-17, Retorno individual: 0, Costo: 0, Ganancia: 0\n",
      "Película: Tinker Bell and the Lost Treasure, Fecha de lanzamiento: 2009-09-03, Retorno individual: 0, Costo: 0, Ganancia: 0\n",
      "Película: Partysaurus Rex, Fecha de lanzamiento: 2012-09-14, Retorno individual: 0, Costo: 0, Ganancia: 0\n",
      "Película: The Legend of Mor'du, Fecha de lanzamiento: 2012-01-01, Retorno individual: 0, Costo: 0, Ganancia: 0\n",
      "Película: Get a Horse!, Fecha de lanzamiento: 2013-11-27, Retorno individual: 0, Costo: 0, Ganancia: 0\n",
      "Película: Frozen Fever, Fecha de lanzamiento: 2015-03-09, Retorno individual: 0, Costo: 0, Ganancia: 0\n",
      "Película: Tinker Bell and the Legend of the NeverBeast, Fecha de lanzamiento: 2014-12-12, Retorno individual: 0, Costo: 0, Ganancia: 0\n",
      "Película: Tinker Bell and the Pirate Fairy, Fecha de lanzamiento: 2014-02-13, Retorno individual: 20300000, Costo: 0, Ganancia: 20300000\n",
      "Película: Tinker Bell and the Great Fairy Rescue, Fecha de lanzamiento: 2010-08-13, Retorno individual: 0, Costo: 0, Ganancia: 0\n",
      "Película: Tinker Bell, Fecha de lanzamiento: 2008-10-27, Retorno individual: 0, Costo: 48000000, Ganancia: -48000000\n",
      "Película: Inside Out, Fecha de lanzamiento: 2015-06-09, Retorno individual: 857611174, Costo: 175000000, Ganancia: 682611174\n",
      "Película: The Good Dinosaur, Fecha de lanzamiento: 2015-11-14, Retorno individual: 331926147, Costo: 175000000, Ganancia: 156926147\n",
      "Película: Prep & Landing, Fecha de lanzamiento: 2009-12-24, Retorno individual: 0, Costo: 0, Ganancia: 0\n",
      "Película: Feast, Fecha de lanzamiento: 2014-11-07, Retorno individual: 0, Costo: 0, Ganancia: 0\n",
      "Película: Lava, Fecha de lanzamiento: 2015-06-21, Retorno individual: 0, Costo: 0, Ganancia: 0\n",
      "Película: Sanjay's Super Team, Fecha de lanzamiento: 2015-11-25, Retorno individual: 0, Costo: 0, Ganancia: 0\n",
      "Película: Zootopia, Fecha de lanzamiento: 2016-02-11, Retorno individual: 1023784195, Costo: 150000000, Ganancia: 873784195\n",
      "Película: Finding Dory, Fecha de lanzamiento: 2016-06-16, Retorno individual: 1028570889, Costo: 200000000, Ganancia: 828570889\n",
      "Película: Piper, Fecha de lanzamiento: 2016-06-16, Retorno individual: 0, Costo: 0, Ganancia: 0\n",
      "Película: How to Hook Up Your Home Theater, Fecha de lanzamiento: 2007-12-21, Retorno individual: 0, Costo: 0, Ganancia: 0\n",
      "Película: Tick Tock Tale, Fecha de lanzamiento: 2010-06-10, Retorno individual: 0, Costo: 0, Ganancia: 0\n",
      "Película: Air Mater, Fecha de lanzamiento: 2011-08-04, Retorno individual: 0, Costo: 0, Ganancia: 0\n",
      "Película: Riley's First Date?, Fecha de lanzamiento: 2015-11-03, Retorno individual: 0, Costo: 0, Ganancia: 0\n",
      "Película: Moana, Fecha de lanzamiento: 2016-11-23, Retorno individual: 643034466, Costo: 150000000, Ganancia: 493034466\n",
      "Película: Inner Workings, Fecha de lanzamiento: 2016-11-23, Retorno individual: 0, Costo: 0, Ganancia: 0\n",
      "Película: Cars 3, Fecha de lanzamiento: 2017-06-15, Retorno individual: 350170057, Costo: 175000000, Ganancia: 175170057\n"
     ]
    },
    {
     "name": "stderr",
     "output_type": "stream",
     "text": [
      "C:\\Users\\User\\AppData\\Local\\Temp\\ipykernel_11176\\433619112.py:20: SettingWithCopyWarning: \n",
      "A value is trying to be set on a copy of a slice from a DataFrame.\n",
      "Try using .loc[row_indexer,col_indexer] = value instead\n",
      "\n",
      "See the caveats in the documentation: https://pandas.pydata.org/pandas-docs/stable/user_guide/indexing.html#returning-a-view-versus-a-copy\n",
      "  director_pelicula['profit'] = director_pelicula['revenue'] - director_pelicula['budget']\n",
      "C:\\Users\\User\\AppData\\Local\\Temp\\ipykernel_11176\\433619112.py:23: SettingWithCopyWarning: \n",
      "A value is trying to be set on a copy of a slice from a DataFrame.\n",
      "Try using .loc[row_indexer,col_indexer] = value instead\n",
      "\n",
      "See the caveats in the documentation: https://pandas.pydata.org/pandas-docs/stable/user_guide/indexing.html#returning-a-view-versus-a-copy\n",
      "  director_pelicula['release_date'] = director_pelicula['release_date'].dt.strftime('%Y-%m-%d')\n"
     ]
    }
   ],
   "source": [
    "def get_director(nombre_director:str):\n",
    "    nombre_director_normalized = unidecode(nombre_director.lower())\n",
    "    \n",
    "    film = data[data['crew_name_normalized'].apply(lambda director: nombre_director_normalized in director)]\n",
    "\n",
    "    #Filtramos si existe o no. También si ocupa el rol de director o no    \n",
    "    if film.empty:\n",
    "        director_no = data[data['crew_name_normalized'] == nombre_director_normalized]\n",
    "        if director_no.empty:\n",
    "            if director_no.empty:\n",
    "                job = director_no['crew_jobs'].values[0] if director_no['crew_jobs'].notna().any() else 'desconocido'\n",
    "                return f\"No es director, el {nombre_director} es {job}.\"\n",
    "        else:\n",
    "            return f\"No se encontró información para {nombre_director}\"\n",
    "    \n",
    "\n",
    "\n",
    "\n",
    "    director_pelicula = film[['title','release_date','revenue','budget']]\n",
    "    director_pelicula['profit'] = director_pelicula['revenue'] - director_pelicula['budget']\n",
    "    \n",
    "    #Parseo de datos. Esto más que nada es para que se puede devolver un texto\n",
    "    director_pelicula['release_date'] = director_pelicula['release_date'].dt.strftime('%Y-%m-%d') \n",
    "    # Creamos una lista para almacenar los detalles de cada película     \n",
    "    info_peliculas = []        \n",
    "            \n",
    "    for _, row in director_pelicula.iterrows():\n",
    "        info = (f\"Película: {row['title']}, Fecha de lanzamiento: {row['release_date']}, \"\n",
    "                f\"Retorno individual: {row['revenue']:.0f}, Costo: {row['budget']:.0f}, \"\n",
    "                f\"Ganancia: {row['profit']:.0f}\")  \n",
    "        info_peliculas.append(info)\n",
    "        \n",
    "    \n",
    "    lista =\"\\n\".join(info_peliculas)\n",
    "    return f'Director {nombre_director}\\n{lista}'       \n",
    "            \n",
    "            \n",
    "   \n",
    "entrada=input('Ingrese el nombre del director')\n",
    "print(get_director(entrada))         \n",
    "            "
   ]
  }
 ],
 "metadata": {
  "kernelspec": {
   "display_name": "Python 3",
   "language": "python",
   "name": "python3"
  },
  "language_info": {
   "codemirror_mode": {
    "name": "ipython",
    "version": 3
   },
   "file_extension": ".py",
   "mimetype": "text/x-python",
   "name": "python",
   "nbconvert_exporter": "python",
   "pygments_lexer": "ipython3",
   "version": "3.12.6"
  }
 },
 "nbformat": 4,
 "nbformat_minor": 2
}
